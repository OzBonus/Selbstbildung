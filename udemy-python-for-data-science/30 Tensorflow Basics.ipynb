{
 "cells": [
  {
   "cell_type": "markdown",
   "metadata": {},
   "source": [
    "# Hello, Tensorflow!\n",
    "\n",
    "This is the customary way of importing Tensorflow into a script."
   ]
  },
  {
   "cell_type": "code",
   "execution_count": 25,
   "metadata": {},
   "outputs": [],
   "source": [
    "import tensorflow as tf\n",
    "import numpy as np"
   ]
  },
  {
   "cell_type": "markdown",
   "metadata": {},
   "source": [
    "Tensorflow makes use of *constants*."
   ]
  },
  {
   "cell_type": "code",
   "execution_count": 6,
   "metadata": {},
   "outputs": [
    {
     "name": "stdout",
     "output_type": "stream",
     "text": [
      "Tensor(\"Const_7:0\", shape=(), dtype=string)\n",
      "Tensor(\"Const_8:0\", shape=(), dtype=int32)\n",
      "Tensor(\"Const_9:0\", shape=(), dtype=int32)\n",
      "<class 'tensorflow.python.framework.ops.Tensor'>\n",
      "<class 'tensorflow.python.framework.ops.Tensor'>\n",
      "<class 'tensorflow.python.framework.ops.Tensor'>\n"
     ]
    }
   ],
   "source": [
    "hello = tf.constant('Hello, world.')\n",
    "x = tf.constant(3.0)\n",
    "y = tf.constant(5.0)\n",
    "\n",
    "constants = [hello, x, y]\n",
    "\n",
    "for c in constants:\n",
    "    print(c)\n",
    "\n",
    "for c in constants:\n",
    "    print(type(c))"
   ]
  },
  {
   "cell_type": "markdown",
   "metadata": {},
   "source": [
    "Tensorflow commands are run within a `Session()`. Taken from the documentation:\n",
    "\n",
    "> A class for running TensorFlow operations. A `Session` object encapsulates the environment in which `Operation`\n",
    "objects are executed, and `Tensor` objects are evaluated."
   ]
  },
  {
   "cell_type": "code",
   "execution_count": 9,
   "metadata": {},
   "outputs": [
    {
     "data": {
      "text/plain": [
       "b'Hello, world.'"
      ]
     },
     "execution_count": 9,
     "metadata": {},
     "output_type": "execute_result"
    }
   ],
   "source": [
    "sess = tf.Session()\n",
    "sess.run(hello)"
   ]
  },
  {
   "cell_type": "code",
   "execution_count": 13,
   "metadata": {},
   "outputs": [
    {
     "name": "stdout",
     "output_type": "stream",
     "text": [
      "Use constants for:\n",
      "------------------\n",
      "Addition: 8\n",
      "Multiplication: 15\n",
      "Division: 0.6\n",
      "Exponents: 243\n"
     ]
    }
   ],
   "source": [
    "with tf.Session() as sess:\n",
    "    print('Use constants for:')\n",
    "    print('------------------')\n",
    "    print(f'Addition: {sess.run(x + y)}')\n",
    "    print(f'Multiplication: {sess.run(x * y)}')\n",
    "    print(f'Division: {sess.run(x / y)}')\n",
    "    print(f'Exponents: {sess.run(x**y)}')"
   ]
  },
  {
   "cell_type": "markdown",
   "metadata": {},
   "source": [
    "When your planning a neural network, or whatever, you might not yet know some critical values. That's where `tf.placeholder()` comes in and does just what it says on the tin."
   ]
  },
  {
   "cell_type": "code",
   "execution_count": 22,
   "metadata": {},
   "outputs": [
    {
     "data": {
      "text/plain": [
       "<tf.Tensor 'Placeholder_5:0' shape=<unknown> dtype=int32>"
      ]
     },
     "execution_count": 22,
     "metadata": {},
     "output_type": "execute_result"
    }
   ],
   "source": [
    "a = tf.placeholder(tf.int32)\n",
    "a"
   ]
  },
  {
   "cell_type": "markdown",
   "metadata": {},
   "source": [
    "Tensorflow has some strange ways of doing things, especially when placeholders are involved. However the next cell, adapted from the course, does not contain Tensorflow `placholder` objects in any way, so I'm probably wrong about something here."
   ]
  },
  {
   "cell_type": "code",
   "execution_count": 24,
   "metadata": {},
   "outputs": [
    {
     "name": "stdout",
     "output_type": "stream",
     "text": [
      "Operations with Placeholders\n",
      "----------------------------\n",
      "Addition:  18\n",
      "Subtraction:  -4\n",
      "Multiplication:  77\n",
      "Division:  0.6363636363636364\n"
     ]
    }
   ],
   "source": [
    "add = tf.add(x, y)\n",
    "sub = tf.subtract(x, y)\n",
    "mul = tf.multiply(x, y)\n",
    "div = tf.divide(x, y)\n",
    "\n",
    "feed_dict = {x: 7, y: 11}\n",
    "\n",
    "with tf.Session() as sess:\n",
    "    print('Operations with Placeholders')\n",
    "    print('----------------------------')\n",
    "    print('Addition: ', sess.run(add, feed_dict=feed_dict))\n",
    "    print('Subtraction: ', sess.run(sub, feed_dict=feed_dict))\n",
    "    print('Multiplication: ', sess.run(mul, feed_dict=feed_dict))\n",
    "    print('Division: ', sess.run(div, feed_dict=feed_dict))"
   ]
  },
  {
   "cell_type": "markdown",
   "metadata": {},
   "source": [
    "Tensorflow does matrix operation very well, as you would expect."
   ]
  },
  {
   "cell_type": "code",
   "execution_count": 36,
   "metadata": {},
   "outputs": [
    {
     "name": "stdout",
     "output_type": "stream",
     "text": [
      "[[20.]]\n"
     ]
    }
   ],
   "source": [
    "a = np.array([[5.0, 5.0]]) # Shape is (1, 2)\n",
    "b = np.array([[2.0], [2.0]]) # Shape is (2, 1)\n",
    "\n",
    "mat_a = tf.constant(a)\n",
    "mat_b = tf.constant(b)\n",
    "\n",
    "matmul = tf.matmul(mat_a, mat_b)\n",
    "\n",
    "with tf.Session() as sess:\n",
    "    result = sess.run(matmul)\n",
    "    print(result)"
   ]
  }
 ],
 "metadata": {
  "kernelspec": {
   "display_name": "Python 3",
   "language": "python",
   "name": "python3"
  },
  "language_info": {
   "codemirror_mode": {
    "name": "ipython",
    "version": 3
   },
   "file_extension": ".py",
   "mimetype": "text/x-python",
   "name": "python",
   "nbconvert_exporter": "python",
   "pygments_lexer": "ipython3",
   "version": "3.6.7"
  }
 },
 "nbformat": 4,
 "nbformat_minor": 2
}
