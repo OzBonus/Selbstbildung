{
 "cells": [
  {
   "cell_type": "code",
   "execution_count": 66,
   "metadata": {
    "collapsed": true
   },
   "outputs": [],
   "source": [
    "import ipywidgets as w\n",
    "from ipywidgets import interact, fixed"
   ]
  },
  {
   "cell_type": "markdown",
   "metadata": {},
   "source": [
    "Make a basic slider. Every time the slider is moved, the function is called and a new value of `x` is returned."
   ]
  },
  {
   "cell_type": "code",
   "execution_count": 67,
   "metadata": {
    "collapsed": false
   },
   "outputs": [
    {
     "data": {
      "text/plain": [
       "10"
      ]
     },
     "metadata": {},
     "output_type": "display_data"
    }
   ],
   "source": [
    "def function(x):\n",
    "    return x\n",
    "w.interact(function, x=10);\n",
    "# A semicolom hides the output cell."
   ]
  },
  {
   "cell_type": "code",
   "execution_count": 68,
   "metadata": {
    "collapsed": false
   },
   "outputs": [
    {
     "data": {
      "text/plain": [
       "1000"
      ]
     },
     "metadata": {},
     "output_type": "display_data"
    }
   ],
   "source": [
    "# How about with a lambda just for fun?\n",
    "w.interact(lambda x: x**3, x=10);"
   ]
  },
  {
   "cell_type": "code",
   "execution_count": 69,
   "metadata": {
    "collapsed": false
   },
   "outputs": [
    {
     "data": {
      "text/plain": [
       "False"
      ]
     },
     "metadata": {},
     "output_type": "display_data"
    }
   ],
   "source": [
    "# Pass a boolean to make a checkbox.\n",
    "w.interact(lambda x: x, x=False);"
   ]
  },
  {
   "cell_type": "code",
   "execution_count": 70,
   "metadata": {
    "collapsed": false
   },
   "outputs": [
    {
     "data": {
      "text/plain": [
       "''"
      ]
     },
     "metadata": {},
     "output_type": "display_data"
    }
   ],
   "source": [
    "# Pass a string to make a text box.\n",
    "w.interact(lambda x: x, x='');"
   ]
  },
  {
   "cell_type": "markdown",
   "metadata": {},
   "source": [
    "## Interact can be used as a decorator."
   ]
  },
  {
   "cell_type": "code",
   "execution_count": 71,
   "metadata": {
    "collapsed": false
   },
   "outputs": [
    {
     "data": {
      "text/plain": [
       "'I have 10 .'"
      ]
     },
     "metadata": {},
     "output_type": "display_data"
    }
   ],
   "source": [
    "@interact(x=10, y='')\n",
    "def g(x, y):\n",
    "    return \"I have {} {}.\".format(x, y)"
   ]
  },
  {
   "cell_type": "markdown",
   "metadata": {},
   "source": [
    "## Sometimes I will want to keep a variable at a fixed value."
   ]
  },
  {
   "cell_type": "code",
   "execution_count": 72,
   "metadata": {
    "collapsed": false
   },
   "outputs": [
    {
     "data": {
      "text/plain": [
       "[77, 'marshmallows']"
      ]
     },
     "metadata": {},
     "output_type": "display_data"
    }
   ],
   "source": [
    "@interact(p=77, q=fixed('marshmallows'))\n",
    "def g(p, q):\n",
    "    return [p, q]"
   ]
  },
  {
   "cell_type": "markdown",
   "metadata": {},
   "source": [
    "## The properties of widgets can be more precisely defined."
   ]
  },
  {
   "cell_type": "code",
   "execution_count": 77,
   "metadata": {
    "collapsed": false
   },
   "outputs": [
    {
     "data": {
      "text/plain": [
       "[6.0, 'mango']"
      ]
     },
     "metadata": {},
     "output_type": "display_data"
    }
   ],
   "source": [
    "interact(\n",
    "    g,\n",
    "    p = w.FloatSlider(min=-10, max=10, step=0.5, value=6),\n",
    "    q = 'mango'\n",
    ");"
   ]
  },
  {
   "cell_type": "markdown",
   "metadata": {},
   "source": [
    "## Do the above with a tuple."
   ]
  },
  {
   "cell_type": "code",
   "execution_count": 74,
   "metadata": {
    "collapsed": false
   },
   "outputs": [
    {
     "data": {
      "text/plain": [
       "50.49"
      ]
     },
     "metadata": {},
     "output_type": "display_data"
    }
   ],
   "source": [
    "interact(lambda x: x, x=(1.0, 100, 0.01));"
   ]
  },
  {
   "cell_type": "markdown",
   "metadata": {},
   "source": [
    "## Make a dropdown."
   ]
  },
  {
   "cell_type": "code",
   "execution_count": 75,
   "metadata": {
    "collapsed": false
   },
   "outputs": [
    {
     "data": {
      "text/plain": [
       "'You picked a'"
      ]
     },
     "metadata": {},
     "output_type": "display_data"
    }
   ],
   "source": [
    "import string\n",
    "options = tuple(char for char in string.ascii_lowercase)\n",
    "@interact(x=options)\n",
    "def f(x):\n",
    "    return \"You picked \" + x"
   ]
  },
  {
   "cell_type": "markdown",
   "metadata": {},
   "source": [
    "## Use annotations for even more of a shortcut."
   ]
  },
  {
   "cell_type": "code",
   "execution_count": 83,
   "metadata": {
    "collapsed": false
   },
   "outputs": [
    {
     "data": {
      "text/plain": [
       "True"
      ]
     },
     "metadata": {},
     "output_type": "display_data"
    }
   ],
   "source": [
    "def f(x: True):\n",
    "    return x\n",
    "interact(f);"
   ]
  }
 ],
 "metadata": {
  "kernelspec": {
   "display_name": "Python 3",
   "language": "python",
   "name": "python3"
  },
  "language_info": {
   "codemirror_mode": {
    "name": "ipython",
    "version": 3
   },
   "file_extension": ".py",
   "mimetype": "text/x-python",
   "name": "python",
   "nbconvert_exporter": "python",
   "pygments_lexer": "ipython3",
   "version": "3.6.0"
  },
  "widgets": {
   "state": {
    "01fb175f4e5144c0b5bffd320286f964": {
     "views": [
      {
       "cell_index": 7
      }
     ]
    },
    "053e0526d57c419d806224d746e1a52d": {
     "views": [
      {
       "cell_index": 4
      }
     ]
    },
    "20321af1ea504657802b413679822370": {
     "views": [
      {
       "cell_index": 17
      }
     ]
    },
    "233add362e534d40bd78acaa42472569": {
     "views": [
      {
       "cell_index": 13
      }
     ]
    },
    "7b40fcd4351f4d07beca44cf319e1f06": {
     "views": [
      {
       "cell_index": 5
      }
     ]
    },
    "a83dfc3fb77b48ebb7c4d5083782412b": {
     "views": [
      {
       "cell_index": 11
      }
     ]
    },
    "dd6ba92f621d459390aef2aa6fb0e358": {
     "views": [
      {
       "cell_index": 15
      }
     ]
    },
    "de96ab62230b4906ae026e6d6c4c6eb1": {
     "views": [
      {
       "cell_index": 3
      }
     ]
    },
    "e786030857b34a0bbeace72ecba9de5c": {
     "views": [
      {
       "cell_index": 2
      }
     ]
    },
    "fe52dc5e8df14683beb7ed639662126e": {
     "views": [
      {
       "cell_index": 9
      }
     ]
    }
   },
   "version": "1.2.0"
  }
 },
 "nbformat": 4,
 "nbformat_minor": 2
}
