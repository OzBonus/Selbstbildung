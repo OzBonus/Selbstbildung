{
 "cells": [
  {
   "cell_type": "markdown",
   "metadata": {},
   "source": [
    "# Highlights from the `collections` Module"
   ]
  },
  {
   "cell_type": "markdown",
   "metadata": {},
   "source": [
    "## `Counter`"
   ]
  },
  {
   "cell_type": "code",
   "execution_count": 8,
   "metadata": {
    "collapsed": false
   },
   "outputs": [],
   "source": [
    "from collections import Counter"
   ]
  },
  {
   "cell_type": "code",
   "execution_count": 9,
   "metadata": {
    "collapsed": false
   },
   "outputs": [
    {
     "data": {
      "text/plain": [
       "Counter({1: 6, 2: 5, 3: 1, 4: 10, 5: 2, 44: 2})"
      ]
     },
     "execution_count": 9,
     "metadata": {},
     "output_type": "execute_result"
    }
   ],
   "source": [
    "array = [1,1,1,1,1,1,2,2,2,2,2,3,44,4,4,4,4,4,4,4,4,4,4,44,5,5]\n",
    "Counter(array)"
   ]
  },
  {
   "cell_type": "code",
   "execution_count": 10,
   "metadata": {
    "collapsed": false
   },
   "outputs": [
    {
     "data": {
      "text/plain": [
       "Counter({'a': 4,\n",
       "         'c': 6,\n",
       "         'e': 4,\n",
       "         'q': 4,\n",
       "         'r': 2,\n",
       "         's': 7,\n",
       "         'w': 5,\n",
       "         'x': 7,\n",
       "         'z': 9})"
      ]
     },
     "execution_count": 10,
     "metadata": {},
     "output_type": "execute_result"
    }
   ],
   "source": [
    "string = 'zqsxzacrzswcxeaxzcswcxaqezscwxzseqzzcaqrzsxwexsw'\n",
    "Counter(string)"
   ]
  },
  {
   "cell_type": "code",
   "execution_count": 11,
   "metadata": {
    "collapsed": false
   },
   "outputs": [
    {
     "data": {
      "text/plain": [
       "Counter({'a': 2,\n",
       "         'chuck': 4,\n",
       "         'could': 2,\n",
       "         'how': 1,\n",
       "         'if': 1,\n",
       "         'much': 1,\n",
       "         'wood': 3})"
      ]
     },
     "execution_count": 11,
     "metadata": {},
     "output_type": "execute_result"
    }
   ],
   "source": [
    "sentence = 'how much could a wood chuck chuck if a wood chuck could chuck wood'\n",
    "Counter(sentence.split())"
   ]
  },
  {
   "cell_type": "code",
   "execution_count": 22,
   "metadata": {
    "collapsed": false
   },
   "outputs": [],
   "source": [
    "# Parse a short book.\n",
    "with open(\"kafka-metamorphosis.txt\") as text:\n",
    "    words = text.read()\n",
    "kafka = Counter(words.split())"
   ]
  },
  {
   "cell_type": "code",
   "execution_count": 25,
   "metadata": {
    "collapsed": false
   },
   "outputs": [
    {
     "data": {
      "text/plain": [
       "[('the', 1095),\n",
       " ('to', 746),\n",
       " ('and', 598),\n",
       " ('his', 524),\n",
       " ('he', 490),\n",
       " ('of', 427),\n",
       " ('was', 394),\n",
       " ('had', 346),\n",
       " ('in', 326),\n",
       " ('that', 308)]"
      ]
     },
     "execution_count": 25,
     "metadata": {},
     "output_type": "execute_result"
    }
   ],
   "source": [
    "# The most common words.\n",
    "kafka.most_common(10)"
   ]
  },
  {
   "cell_type": "code",
   "execution_count": 38,
   "metadata": {
    "collapsed": false
   },
   "outputs": [
    {
     "data": {
      "text/plain": [
       "[('destination', 1),\n",
       " ('intentions,', 1),\n",
       " ('dreams', 1),\n",
       " ('confirmation', 1),\n",
       " ('And,', 1),\n",
       " ('agreed', 1),\n",
       " (\"other's\", 1),\n",
       " ('quieter.', 1),\n",
       " ('lady.', 1),\n",
       " ('built', 1)]"
      ]
     },
     "execution_count": 38,
     "metadata": {},
     "output_type": "execute_result"
    }
   ],
   "source": [
    "# The least common words.\n",
    "kafka.most_common()[:-11:-1]"
   ]
  },
  {
   "cell_type": "code",
   "execution_count": 27,
   "metadata": {
    "collapsed": false
   },
   "outputs": [
    {
     "data": {
      "text/plain": [
       "22087"
      ]
     },
     "execution_count": 27,
     "metadata": {},
     "output_type": "execute_result"
    }
   ],
   "source": [
    "# The total word count.\n",
    "sum(kafka.values())"
   ]
  },
  {
   "cell_type": "code",
   "execution_count": 31,
   "metadata": {
    "collapsed": false
   },
   "outputs": [
    {
     "data": {
      "text/plain": [
       "3868"
      ]
     },
     "execution_count": 31,
     "metadata": {},
     "output_type": "execute_result"
    }
   ],
   "source": [
    "# The count of unique words.\n",
    "len(kafka.keys())"
   ]
  },
  {
   "cell_type": "markdown",
   "metadata": {
    "collapsed": true
   },
   "source": [
    "## `defaultdict`\n",
    "\n",
    "If you try to call a key that does not exist in a `defaultdict`, it will return a `KeyError`, but rather a predefined default value.\n",
    "\n",
    "The default value is set when the dictionary is initialized. Normal dictionaries also have this ability, but they need the `setdefault()` method to be called. Not sure how much time this really saves, but OK."
   ]
  },
  {
   "cell_type": "code",
   "execution_count": 8,
   "metadata": {
    "collapsed": false
   },
   "outputs": [
    {
     "data": {
      "text/plain": [
       "<object at 0x7f0bb64a1a90>"
      ]
     },
     "execution_count": 8,
     "metadata": {},
     "output_type": "execute_result"
    }
   ],
   "source": [
    "from collections import defaultdict\n",
    "\n",
    "d = defaultdict(object)\n",
    "d['a']"
   ]
  },
  {
   "cell_type": "code",
   "execution_count": 11,
   "metadata": {
    "collapsed": false
   },
   "outputs": [
    {
     "data": {
      "text/plain": [
       "'cheese'"
      ]
     },
     "execution_count": 11,
     "metadata": {},
     "output_type": "execute_result"
    }
   ],
   "source": [
    "d = defaultdict(lambda: 'cheese')\n",
    "d['a']"
   ]
  },
  {
   "cell_type": "markdown",
   "metadata": {},
   "source": [
    "## `OrderedDict`\n",
    "\n",
    "An ordered dictionary, unlike a normal dictionary, preserves the order of key-value pairs as they are initialized. Just like it says on the tin, really."
   ]
  },
  {
   "cell_type": "code",
   "execution_count": 22,
   "metadata": {
    "collapsed": false
   },
   "outputs": [
    {
     "name": "stdout",
     "output_type": "stream",
     "text": [
      "a A\n",
      "b B\n",
      "c C\n",
      "d D\n",
      "e E\n"
     ]
    }
   ],
   "source": [
    "from collections import OrderedDict\n",
    "\n",
    "# First, an example of normal hash table dictionaries.\n",
    "\n",
    "d = OrderedDict()\n",
    "\n",
    "d['a'] = 'A'\n",
    "d['b'] = 'B'\n",
    "d['c'] = 'C'\n",
    "d['d'] = 'D'\n",
    "d['e'] = 'E'\n",
    "\n",
    "for k, v in d.items():\n",
    "    print(k, v)"
   ]
  },
  {
   "cell_type": "markdown",
   "metadata": {},
   "source": [
    "## `namedtuple`\n",
    "\n",
    "A `namedtuple` is handy for those times when you need a data container, but creating a class the old-fashioned way seems like too much work. It's nice that they exist, but I am not convinced that I'm going to every need them very often unless I really need a container that is ordered, indexable and immutable."
   ]
  },
  {
   "cell_type": "code",
   "execution_count": 23,
   "metadata": {
    "collapsed": false
   },
   "outputs": [
    {
     "name": "stdout",
     "output_type": "stream",
     "text": [
      "Snoopy\n",
      "66\n",
      "beagle\n"
     ]
    }
   ],
   "source": [
    "from collections import namedtuple\n",
    "\n",
    "# Create a namedtuple \"Class\" with the factory function.\n",
    "# Attributes -------------\n",
    "# Class name ------v     v\n",
    "Dog = namedtuple('Dog', 'age breed name')\n",
    "snoopy = Dog(age=66, breed='beagle', name='Snoopy')\n",
    "\n",
    "print(snoopy.name)\n",
    "print(snoopy.age)\n",
    "print(snoopy.breed)"
   ]
  }
 ],
 "metadata": {
  "kernelspec": {
   "display_name": "Python 3",
   "language": "python",
   "name": "python3"
  },
  "language_info": {
   "codemirror_mode": {
    "name": "ipython",
    "version": 3
   },
   "file_extension": ".py",
   "mimetype": "text/x-python",
   "name": "python",
   "nbconvert_exporter": "python",
   "pygments_lexer": "ipython3",
   "version": "3.6.0"
  }
 },
 "nbformat": 4,
 "nbformat_minor": 2
}
