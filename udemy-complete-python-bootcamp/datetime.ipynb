{
 "cells": [
  {
   "cell_type": "code",
   "execution_count": 2,
   "metadata": {
    "collapsed": true
   },
   "outputs": [],
   "source": [
    "import datetime"
   ]
  },
  {
   "cell_type": "markdown",
   "metadata": {},
   "source": [
    "## `datetime`"
   ]
  },
  {
   "cell_type": "code",
   "execution_count": 3,
   "metadata": {
    "collapsed": false
   },
   "outputs": [
    {
     "name": "stdout",
     "output_type": "stream",
     "text": [
      "22:38:13.000002\n"
     ]
    }
   ],
   "source": [
    "# Create a time in the format of (hours, minutes, seconds, microseconds)\n",
    "\n",
    "t = datetime.time(22, 38, 13, 2)\n",
    "print(t)"
   ]
  },
  {
   "cell_type": "code",
   "execution_count": 4,
   "metadata": {
    "collapsed": false,
    "scrolled": false
   },
   "outputs": [
    {
     "name": "stdout",
     "output_type": "stream",
     "text": [
      "Time: 22:38:13.000002\n",
      "Hours: 22\n",
      "Minutes: 38\n",
      "Seconds: 13\n",
      "Microseconds: 2\n",
      "Timezone None\n"
     ]
    }
   ],
   "source": [
    "print(\"Time:\", t)\n",
    "print(\"Hours:\", t.hour)\n",
    "print(\"Minutes:\", t.minute)\n",
    "print(\"Seconds:\", t.second)\n",
    "print(\"Microseconds:\", t.microsecond)\n",
    "print(\"Timezone\", t.tzinfo)"
   ]
  },
  {
   "cell_type": "markdown",
   "metadata": {},
   "source": [
    "There are minimum and maximum possible time values."
   ]
  },
  {
   "cell_type": "code",
   "execution_count": 5,
   "metadata": {
    "collapsed": false
   },
   "outputs": [
    {
     "name": "stdout",
     "output_type": "stream",
     "text": [
      "Maximum: 23:59:59.999999\n",
      "Minimum: 00:00:00\n"
     ]
    }
   ],
   "source": [
    "print(\"Maximum:\", datetime.time.max)\n",
    "print(\"Minimum:\", datetime.time.min)"
   ]
  },
  {
   "cell_type": "markdown",
   "metadata": {},
   "source": [
    "## `datetime.date`"
   ]
  },
  {
   "cell_type": "code",
   "execution_count": 11,
   "metadata": {
    "collapsed": false
   },
   "outputs": [
    {
     "name": "stdout",
     "output_type": "stream",
     "text": [
      "Today: 2017-06-06\n",
      "ctime: Tue Jun  6 00:00:00 2017\n",
      "tuple time.struct_time(tm_year=2017, tm_mon=6, tm_mday=6, tm_hour=0, tm_min=0, tm_sec=0, tm_wday=1, tm_yday=157, tm_isdst=-1)\n",
      "ordinal 736486\n",
      "year: 2017\n",
      "month: 6\n",
      "day: 6\n"
     ]
    }
   ],
   "source": [
    "today = datetime.date.today()\n",
    "print(\"Today:\", today)\n",
    "print(\"ctime:\", today.ctime()) # Return a string representation of the date.\n",
    "print(\"tuple\", today.timetuple()) # Return a struct time of the date where hours/minutes/seconds equal 0.\n",
    "print(\"ordinal\", today.toordinal()) # The number of the day, counting from Day 1, Year 1.\n",
    "print(\"year:\", today.year)\n",
    "print(\"month:\", today.month)\n",
    "print(\"day:\", today.day)"
   ]
  },
  {
   "cell_type": "markdown",
   "metadata": {},
   "source": [
    "The range of `date` values that are support can be found with the `min` and `max` attributes."
   ]
  },
  {
   "cell_type": "code",
   "execution_count": 12,
   "metadata": {
    "collapsed": false
   },
   "outputs": [
    {
     "name": "stdout",
     "output_type": "stream",
     "text": [
      "Earliest: 0001-01-01\n",
      "Latest: 9999-12-31\n",
      "Resolution: 1 day, 0:00:00\n"
     ]
    }
   ],
   "source": [
    "print(\"Earliest:\", datetime.date.min)\n",
    "print(\"Latest:\", datetime.date.max)\n",
    "print(\"Resolution:\", datetime.date.resolution)"
   ]
  },
  {
   "cell_type": "markdown",
   "metadata": {},
   "source": [
    "The `replace` method is another way to make new `date` instances. It simply switches out part the date (year, month, day) for another value."
   ]
  },
  {
   "cell_type": "code",
   "execution_count": 16,
   "metadata": {
    "collapsed": false
   },
   "outputs": [
    {
     "name": "stdout",
     "output_type": "stream",
     "text": [
      "1988-07-05\n",
      "2099-07-05\n"
     ]
    }
   ],
   "source": [
    "date_1 = datetime.date(1988, 7, 5)\n",
    "date_2 = date_1.replace(year=2099)\n",
    "\n",
    "print(date_1)\n",
    "print(date_2)"
   ]
  },
  {
   "cell_type": "markdown",
   "metadata": {},
   "source": [
    "## Time Arithmetic\n",
    "\n",
    "Perform arithmetic operations on `datetime` objects to get time differences."
   ]
  },
  {
   "cell_type": "code",
   "execution_count": 19,
   "metadata": {
    "collapsed": false
   },
   "outputs": [
    {
     "data": {
      "text/plain": [
       "datetime.timedelta(40542)"
      ]
     },
     "execution_count": 19,
     "metadata": {},
     "output_type": "execute_result"
    }
   ],
   "source": [
    "# Return a difference as a number of days.\n",
    "date_2 - date_1"
   ]
  }
 ],
 "metadata": {
  "kernelspec": {
   "display_name": "Python 3",
   "language": "python",
   "name": "python3"
  },
  "language_info": {
   "codemirror_mode": {
    "name": "ipython",
    "version": 3
   },
   "file_extension": ".py",
   "mimetype": "text/x-python",
   "name": "python",
   "nbconvert_exporter": "python",
   "pygments_lexer": "ipython3",
   "version": "3.6.0"
  }
 },
 "nbformat": 4,
 "nbformat_minor": 2
}
