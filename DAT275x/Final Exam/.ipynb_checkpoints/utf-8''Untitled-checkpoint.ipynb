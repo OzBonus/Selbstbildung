{
 "cells": [
  {
   "cell_type": "markdown",
   "metadata": {},
   "source": [
    "# DAT275x Principles of Machine Learning: Python Edition FINAL CHALLENGE"
   ]
  },
  {
   "cell_type": "markdown",
   "metadata": {},
   "source": [
    "Let's being by loading a few essential packages."
   ]
  },
  {
   "cell_type": "code",
   "execution_count": 2,
   "metadata": {},
   "outputs": [],
   "source": [
    "import numpy as np\n",
    "import pandas as pd\n",
    "import matplotlib.pyplot as plt\n",
    "import seaborn as sns\n",
    "%matplotlib inline\n",
    "pd.options.display.max_columns = None"
   ]
  },
  {
   "cell_type": "markdown",
   "metadata": {},
   "source": [
    "The necessary CSV files have already been loaded into this directory. We'll begin by loading the file containing all the features we'd like and displaying the first few rows."
   ]
  },
  {
   "cell_type": "code",
   "execution_count": 3,
   "metadata": {},
   "outputs": [
    {
     "data": {
      "text/plain": [
       "(16519, 23)"
      ]
     },
     "metadata": {},
     "output_type": "display_data"
    },
    {
     "data": {
      "text/html": [
       "<div>\n",
       "<table border=\"1\" class=\"dataframe\">\n",
       "  <thead>\n",
       "    <tr style=\"text-align: right;\">\n",
       "      <th></th>\n",
       "      <th>CustomerID</th>\n",
       "      <th>Title</th>\n",
       "      <th>FirstName</th>\n",
       "      <th>MiddleName</th>\n",
       "      <th>LastName</th>\n",
       "      <th>Suffix</th>\n",
       "      <th>AddressLine1</th>\n",
       "      <th>AddressLine2</th>\n",
       "      <th>City</th>\n",
       "      <th>StateProvinceName</th>\n",
       "      <th>CountryRegionName</th>\n",
       "      <th>PostalCode</th>\n",
       "      <th>PhoneNumber</th>\n",
       "      <th>BirthDate</th>\n",
       "      <th>Education</th>\n",
       "      <th>Occupation</th>\n",
       "      <th>Gender</th>\n",
       "      <th>MaritalStatus</th>\n",
       "      <th>HomeOwnerFlag</th>\n",
       "      <th>NumberCarsOwned</th>\n",
       "      <th>NumberChildrenAtHome</th>\n",
       "      <th>TotalChildren</th>\n",
       "      <th>YearlyIncome</th>\n",
       "    </tr>\n",
       "  </thead>\n",
       "  <tbody>\n",
       "    <tr>\n",
       "      <th>0</th>\n",
       "      <td>11000</td>\n",
       "      <td>NaN</td>\n",
       "      <td>Jon</td>\n",
       "      <td>V</td>\n",
       "      <td>Yang</td>\n",
       "      <td>NaN</td>\n",
       "      <td>3761 N. 14th St</td>\n",
       "      <td>NaN</td>\n",
       "      <td>Rockhampton</td>\n",
       "      <td>Queensland</td>\n",
       "      <td>Australia</td>\n",
       "      <td>4700</td>\n",
       "      <td>1 (11) 500 555-0162</td>\n",
       "      <td>1966-04-08</td>\n",
       "      <td>Bachelors</td>\n",
       "      <td>Professional</td>\n",
       "      <td>M</td>\n",
       "      <td>M</td>\n",
       "      <td>1</td>\n",
       "      <td>0</td>\n",
       "      <td>0</td>\n",
       "      <td>2</td>\n",
       "      <td>137947</td>\n",
       "    </tr>\n",
       "    <tr>\n",
       "      <th>1</th>\n",
       "      <td>11001</td>\n",
       "      <td>NaN</td>\n",
       "      <td>Eugene</td>\n",
       "      <td>L</td>\n",
       "      <td>Huang</td>\n",
       "      <td>NaN</td>\n",
       "      <td>2243 W St.</td>\n",
       "      <td>NaN</td>\n",
       "      <td>Seaford</td>\n",
       "      <td>Victoria</td>\n",
       "      <td>Australia</td>\n",
       "      <td>3198</td>\n",
       "      <td>1 (11) 500 555-0110</td>\n",
       "      <td>1965-05-14</td>\n",
       "      <td>Bachelors</td>\n",
       "      <td>Professional</td>\n",
       "      <td>M</td>\n",
       "      <td>S</td>\n",
       "      <td>0</td>\n",
       "      <td>1</td>\n",
       "      <td>3</td>\n",
       "      <td>3</td>\n",
       "      <td>101141</td>\n",
       "    </tr>\n",
       "    <tr>\n",
       "      <th>2</th>\n",
       "      <td>11002</td>\n",
       "      <td>NaN</td>\n",
       "      <td>Ruben</td>\n",
       "      <td>NaN</td>\n",
       "      <td>Torres</td>\n",
       "      <td>NaN</td>\n",
       "      <td>5844 Linden Land</td>\n",
       "      <td>NaN</td>\n",
       "      <td>Hobart</td>\n",
       "      <td>Tasmania</td>\n",
       "      <td>Australia</td>\n",
       "      <td>7001</td>\n",
       "      <td>1 (11) 500 555-0184</td>\n",
       "      <td>1965-08-12</td>\n",
       "      <td>Bachelors</td>\n",
       "      <td>Professional</td>\n",
       "      <td>M</td>\n",
       "      <td>M</td>\n",
       "      <td>1</td>\n",
       "      <td>1</td>\n",
       "      <td>3</td>\n",
       "      <td>3</td>\n",
       "      <td>91945</td>\n",
       "    </tr>\n",
       "    <tr>\n",
       "      <th>3</th>\n",
       "      <td>11003</td>\n",
       "      <td>NaN</td>\n",
       "      <td>Christy</td>\n",
       "      <td>NaN</td>\n",
       "      <td>Zhu</td>\n",
       "      <td>NaN</td>\n",
       "      <td>1825 Village Pl.</td>\n",
       "      <td>NaN</td>\n",
       "      <td>North Ryde</td>\n",
       "      <td>New South Wales</td>\n",
       "      <td>Australia</td>\n",
       "      <td>2113</td>\n",
       "      <td>1 (11) 500 555-0162</td>\n",
       "      <td>1968-02-15</td>\n",
       "      <td>Bachelors</td>\n",
       "      <td>Professional</td>\n",
       "      <td>F</td>\n",
       "      <td>S</td>\n",
       "      <td>0</td>\n",
       "      <td>1</td>\n",
       "      <td>0</td>\n",
       "      <td>0</td>\n",
       "      <td>86688</td>\n",
       "    </tr>\n",
       "    <tr>\n",
       "      <th>4</th>\n",
       "      <td>11004</td>\n",
       "      <td>NaN</td>\n",
       "      <td>Elizabeth</td>\n",
       "      <td>NaN</td>\n",
       "      <td>Johnson</td>\n",
       "      <td>NaN</td>\n",
       "      <td>7553 Harness Circle</td>\n",
       "      <td>NaN</td>\n",
       "      <td>Wollongong</td>\n",
       "      <td>New South Wales</td>\n",
       "      <td>Australia</td>\n",
       "      <td>2500</td>\n",
       "      <td>1 (11) 500 555-0131</td>\n",
       "      <td>1968-08-08</td>\n",
       "      <td>Bachelors</td>\n",
       "      <td>Professional</td>\n",
       "      <td>F</td>\n",
       "      <td>S</td>\n",
       "      <td>1</td>\n",
       "      <td>4</td>\n",
       "      <td>5</td>\n",
       "      <td>5</td>\n",
       "      <td>92771</td>\n",
       "    </tr>\n",
       "  </tbody>\n",
       "</table>\n",
       "</div>"
      ],
      "text/plain": [
       "   CustomerID Title  FirstName MiddleName LastName Suffix  \\\n",
       "0       11000   NaN        Jon          V     Yang    NaN   \n",
       "1       11001   NaN     Eugene          L    Huang    NaN   \n",
       "2       11002   NaN      Ruben        NaN   Torres    NaN   \n",
       "3       11003   NaN    Christy        NaN      Zhu    NaN   \n",
       "4       11004   NaN  Elizabeth        NaN  Johnson    NaN   \n",
       "\n",
       "          AddressLine1 AddressLine2         City StateProvinceName  \\\n",
       "0      3761 N. 14th St          NaN  Rockhampton        Queensland   \n",
       "1           2243 W St.          NaN      Seaford          Victoria   \n",
       "2     5844 Linden Land          NaN       Hobart          Tasmania   \n",
       "3     1825 Village Pl.          NaN   North Ryde   New South Wales   \n",
       "4  7553 Harness Circle          NaN   Wollongong   New South Wales   \n",
       "\n",
       "  CountryRegionName PostalCode          PhoneNumber   BirthDate   Education  \\\n",
       "0         Australia       4700  1 (11) 500 555-0162  1966-04-08  Bachelors    \n",
       "1         Australia       3198  1 (11) 500 555-0110  1965-05-14  Bachelors    \n",
       "2         Australia       7001  1 (11) 500 555-0184  1965-08-12  Bachelors    \n",
       "3         Australia       2113  1 (11) 500 555-0162  1968-02-15  Bachelors    \n",
       "4         Australia       2500  1 (11) 500 555-0131  1968-08-08  Bachelors    \n",
       "\n",
       "     Occupation Gender MaritalStatus  HomeOwnerFlag  NumberCarsOwned  \\\n",
       "0  Professional      M             M              1                0   \n",
       "1  Professional      M             S              0                1   \n",
       "2  Professional      M             M              1                1   \n",
       "3  Professional      F             S              0                1   \n",
       "4  Professional      F             S              1                4   \n",
       "\n",
       "   NumberChildrenAtHome  TotalChildren  YearlyIncome  \n",
       "0                     0              2        137947  \n",
       "1                     3              3        101141  \n",
       "2                     3              3         91945  \n",
       "3                     0              0         86688  \n",
       "4                     5              5         92771  "
      ]
     },
     "metadata": {},
     "output_type": "display_data"
    }
   ],
   "source": [
    "customers = pd.read_csv('AdvWorksCusts.csv')\n",
    "display(customers.shape)\n",
    "display(customers.head())"
   ]
  },
  {
   "cell_type": "markdown",
   "metadata": {},
   "source": [
    "The assignment notes mentioned that there were some duplicate rows that need to be removed and that only the most recent row should be kept. \"Recent\" was not defined, but I'll assume that a higher index is a more recent entry, reflecting perhaps an update to a customer's previously-entered information. We'll need to test this however.\n",
    "\n",
    "First of all, let's see how many duplicate customer IDs there are. This is the only column we can be guarenteed is a unique identifier for a customer."
   ]
  },
  {
   "cell_type": "code",
   "execution_count": 4,
   "metadata": {},
   "outputs": [
    {
     "data": {
      "text/plain": [
       "(230, 23)"
      ]
     },
     "execution_count": 4,
     "metadata": {},
     "output_type": "execute_result"
    }
   ],
   "source": [
    "customers_dupes = customers[customers['CustomerID'].duplicated(keep=False)]\n",
    "customers_dupes.shape"
   ]
  },
  {
   "cell_type": "markdown",
   "metadata": {},
   "source": [
    "That's rather a lot of duplicates. Let's put them next to each other and display a few."
   ]
  },
  {
   "cell_type": "code",
   "execution_count": 5,
   "metadata": {},
   "outputs": [
    {
     "data": {
      "text/html": [
       "<div>\n",
       "<table border=\"1\" class=\"dataframe\">\n",
       "  <thead>\n",
       "    <tr style=\"text-align: right;\">\n",
       "      <th></th>\n",
       "      <th>CustomerID</th>\n",
       "      <th>Title</th>\n",
       "      <th>FirstName</th>\n",
       "      <th>MiddleName</th>\n",
       "      <th>LastName</th>\n",
       "      <th>Suffix</th>\n",
       "      <th>AddressLine1</th>\n",
       "      <th>AddressLine2</th>\n",
       "      <th>City</th>\n",
       "      <th>StateProvinceName</th>\n",
       "      <th>CountryRegionName</th>\n",
       "      <th>PostalCode</th>\n",
       "      <th>PhoneNumber</th>\n",
       "      <th>BirthDate</th>\n",
       "      <th>Education</th>\n",
       "      <th>Occupation</th>\n",
       "      <th>Gender</th>\n",
       "      <th>MaritalStatus</th>\n",
       "      <th>HomeOwnerFlag</th>\n",
       "      <th>NumberCarsOwned</th>\n",
       "      <th>NumberChildrenAtHome</th>\n",
       "      <th>TotalChildren</th>\n",
       "      <th>YearlyIncome</th>\n",
       "    </tr>\n",
       "  </thead>\n",
       "  <tbody>\n",
       "    <tr>\n",
       "      <th>5708</th>\n",
       "      <td>11041</td>\n",
       "      <td>NaN</td>\n",
       "      <td>Amanda</td>\n",
       "      <td>M</td>\n",
       "      <td>Carter</td>\n",
       "      <td>NaN</td>\n",
       "      <td>5826 Escobar</td>\n",
       "      <td>NaN</td>\n",
       "      <td>Glendale</td>\n",
       "      <td>California</td>\n",
       "      <td>United States</td>\n",
       "      <td>91203</td>\n",
       "      <td>295-555-0145</td>\n",
       "      <td>1977-10-16</td>\n",
       "      <td>Partial College</td>\n",
       "      <td>Skilled Manual</td>\n",
       "      <td>F</td>\n",
       "      <td>M</td>\n",
       "      <td>1</td>\n",
       "      <td>2</td>\n",
       "      <td>0</td>\n",
       "      <td>0</td>\n",
       "      <td>78170</td>\n",
       "    </tr>\n",
       "    <tr>\n",
       "      <th>34</th>\n",
       "      <td>11041</td>\n",
       "      <td>NaN</td>\n",
       "      <td>Amanda</td>\n",
       "      <td>M</td>\n",
       "      <td>Carter</td>\n",
       "      <td>NaN</td>\n",
       "      <td>5826 Escobar</td>\n",
       "      <td>NaN</td>\n",
       "      <td>Glendale</td>\n",
       "      <td>California</td>\n",
       "      <td>United States</td>\n",
       "      <td>91203</td>\n",
       "      <td>295-555-0145</td>\n",
       "      <td>1977-10-16</td>\n",
       "      <td>Partial College</td>\n",
       "      <td>Skilled Manual</td>\n",
       "      <td>F</td>\n",
       "      <td>M</td>\n",
       "      <td>1</td>\n",
       "      <td>2</td>\n",
       "      <td>0</td>\n",
       "      <td>0</td>\n",
       "      <td>78170</td>\n",
       "    </tr>\n",
       "    <tr>\n",
       "      <th>126</th>\n",
       "      <td>11143</td>\n",
       "      <td>NaN</td>\n",
       "      <td>Jonathan</td>\n",
       "      <td>M</td>\n",
       "      <td>Henderson</td>\n",
       "      <td>NaN</td>\n",
       "      <td>165 East Lane Road</td>\n",
       "      <td>NaN</td>\n",
       "      <td>Lakewood</td>\n",
       "      <td>California</td>\n",
       "      <td>United States</td>\n",
       "      <td>90712</td>\n",
       "      <td>149-555-0113</td>\n",
       "      <td>1977-02-04</td>\n",
       "      <td>High School</td>\n",
       "      <td>Skilled Manual</td>\n",
       "      <td>M</td>\n",
       "      <td>M</td>\n",
       "      <td>1</td>\n",
       "      <td>2</td>\n",
       "      <td>0</td>\n",
       "      <td>0</td>\n",
       "      <td>43666</td>\n",
       "    </tr>\n",
       "    <tr>\n",
       "      <th>7907</th>\n",
       "      <td>11143</td>\n",
       "      <td>NaN</td>\n",
       "      <td>Jonathan</td>\n",
       "      <td>M</td>\n",
       "      <td>Henderson</td>\n",
       "      <td>NaN</td>\n",
       "      <td>165 East Lane Road</td>\n",
       "      <td>NaN</td>\n",
       "      <td>Lakewood</td>\n",
       "      <td>California</td>\n",
       "      <td>United States</td>\n",
       "      <td>90712</td>\n",
       "      <td>149-555-0113</td>\n",
       "      <td>1977-02-04</td>\n",
       "      <td>High School</td>\n",
       "      <td>Skilled Manual</td>\n",
       "      <td>M</td>\n",
       "      <td>M</td>\n",
       "      <td>1</td>\n",
       "      <td>2</td>\n",
       "      <td>0</td>\n",
       "      <td>0</td>\n",
       "      <td>43666</td>\n",
       "    </tr>\n",
       "    <tr>\n",
       "      <th>12779</th>\n",
       "      <td>11172</td>\n",
       "      <td>NaN</td>\n",
       "      <td>Gabrielle</td>\n",
       "      <td>J</td>\n",
       "      <td>Adams</td>\n",
       "      <td>NaN</td>\n",
       "      <td>5621 Arcadia Pl.</td>\n",
       "      <td>NaN</td>\n",
       "      <td>Lynnwood</td>\n",
       "      <td>Washington</td>\n",
       "      <td>United States</td>\n",
       "      <td>98036</td>\n",
       "      <td>403-555-0152</td>\n",
       "      <td>1967-11-21</td>\n",
       "      <td>Bachelors</td>\n",
       "      <td>Management</td>\n",
       "      <td>F</td>\n",
       "      <td>M</td>\n",
       "      <td>1</td>\n",
       "      <td>2</td>\n",
       "      <td>0</td>\n",
       "      <td>1</td>\n",
       "      <td>97616</td>\n",
       "    </tr>\n",
       "    <tr>\n",
       "      <th>151</th>\n",
       "      <td>11172</td>\n",
       "      <td>NaN</td>\n",
       "      <td>Gabrielle</td>\n",
       "      <td>J</td>\n",
       "      <td>Adams</td>\n",
       "      <td>NaN</td>\n",
       "      <td>5621 Arcadia Pl.</td>\n",
       "      <td>NaN</td>\n",
       "      <td>Lynnwood</td>\n",
       "      <td>Washington</td>\n",
       "      <td>United States</td>\n",
       "      <td>98036</td>\n",
       "      <td>403-555-0152</td>\n",
       "      <td>1967-11-21</td>\n",
       "      <td>Bachelors</td>\n",
       "      <td>Management</td>\n",
       "      <td>F</td>\n",
       "      <td>M</td>\n",
       "      <td>1</td>\n",
       "      <td>2</td>\n",
       "      <td>0</td>\n",
       "      <td>1</td>\n",
       "      <td>97616</td>\n",
       "    </tr>\n",
       "    <tr>\n",
       "      <th>187</th>\n",
       "      <td>11210</td>\n",
       "      <td>NaN</td>\n",
       "      <td>Edward</td>\n",
       "      <td>J</td>\n",
       "      <td>Wood</td>\n",
       "      <td>NaN</td>\n",
       "      <td>1039 Adelaide St.</td>\n",
       "      <td>NaN</td>\n",
       "      <td>West Covina</td>\n",
       "      <td>California</td>\n",
       "      <td>United States</td>\n",
       "      <td>91791</td>\n",
       "      <td>229-555-0114</td>\n",
       "      <td>1948-06-08</td>\n",
       "      <td>Partial College</td>\n",
       "      <td>Professional</td>\n",
       "      <td>M</td>\n",
       "      <td>M</td>\n",
       "      <td>1</td>\n",
       "      <td>2</td>\n",
       "      <td>1</td>\n",
       "      <td>4</td>\n",
       "      <td>87565</td>\n",
       "    </tr>\n",
       "    <tr>\n",
       "      <th>4376</th>\n",
       "      <td>11210</td>\n",
       "      <td>NaN</td>\n",
       "      <td>Edward</td>\n",
       "      <td>J</td>\n",
       "      <td>Wood</td>\n",
       "      <td>NaN</td>\n",
       "      <td>1039 Adelaide St.</td>\n",
       "      <td>NaN</td>\n",
       "      <td>West Covina</td>\n",
       "      <td>California</td>\n",
       "      <td>United States</td>\n",
       "      <td>91791</td>\n",
       "      <td>229-555-0114</td>\n",
       "      <td>1948-06-08</td>\n",
       "      <td>Partial College</td>\n",
       "      <td>Professional</td>\n",
       "      <td>M</td>\n",
       "      <td>M</td>\n",
       "      <td>1</td>\n",
       "      <td>2</td>\n",
       "      <td>1</td>\n",
       "      <td>4</td>\n",
       "      <td>87565</td>\n",
       "    </tr>\n",
       "    <tr>\n",
       "      <th>13577</th>\n",
       "      <td>11218</td>\n",
       "      <td>NaN</td>\n",
       "      <td>Olivia</td>\n",
       "      <td>NaN</td>\n",
       "      <td>Brown</td>\n",
       "      <td>NaN</td>\n",
       "      <td>3964 Stony Hill Circle</td>\n",
       "      <td>NaN</td>\n",
       "      <td>Tacoma</td>\n",
       "      <td>Washington</td>\n",
       "      <td>United States</td>\n",
       "      <td>98403</td>\n",
       "      <td>414-555-0147</td>\n",
       "      <td>1950-09-11</td>\n",
       "      <td>Partial College</td>\n",
       "      <td>Professional</td>\n",
       "      <td>F</td>\n",
       "      <td>S</td>\n",
       "      <td>0</td>\n",
       "      <td>2</td>\n",
       "      <td>1</td>\n",
       "      <td>2</td>\n",
       "      <td>76220</td>\n",
       "    </tr>\n",
       "    <tr>\n",
       "      <th>194</th>\n",
       "      <td>11218</td>\n",
       "      <td>NaN</td>\n",
       "      <td>Olivia</td>\n",
       "      <td>NaN</td>\n",
       "      <td>Brown</td>\n",
       "      <td>NaN</td>\n",
       "      <td>3964 Stony Hill Circle</td>\n",
       "      <td>NaN</td>\n",
       "      <td>Tacoma</td>\n",
       "      <td>Washington</td>\n",
       "      <td>United States</td>\n",
       "      <td>98403</td>\n",
       "      <td>414-555-0147</td>\n",
       "      <td>1950-09-11</td>\n",
       "      <td>Partial College</td>\n",
       "      <td>Professional</td>\n",
       "      <td>F</td>\n",
       "      <td>S</td>\n",
       "      <td>0</td>\n",
       "      <td>2</td>\n",
       "      <td>1</td>\n",
       "      <td>2</td>\n",
       "      <td>76220</td>\n",
       "    </tr>\n",
       "  </tbody>\n",
       "</table>\n",
       "</div>"
      ],
      "text/plain": [
       "       CustomerID Title  FirstName MiddleName   LastName Suffix  \\\n",
       "5708        11041   NaN     Amanda          M     Carter    NaN   \n",
       "34          11041   NaN     Amanda          M     Carter    NaN   \n",
       "126         11143   NaN   Jonathan          M  Henderson    NaN   \n",
       "7907        11143   NaN   Jonathan          M  Henderson    NaN   \n",
       "12779       11172   NaN  Gabrielle          J      Adams    NaN   \n",
       "151         11172   NaN  Gabrielle          J      Adams    NaN   \n",
       "187         11210   NaN     Edward          J       Wood    NaN   \n",
       "4376        11210   NaN     Edward          J       Wood    NaN   \n",
       "13577       11218   NaN     Olivia        NaN      Brown    NaN   \n",
       "194         11218   NaN     Olivia        NaN      Brown    NaN   \n",
       "\n",
       "                 AddressLine1 AddressLine2         City StateProvinceName  \\\n",
       "5708             5826 Escobar          NaN     Glendale        California   \n",
       "34               5826 Escobar          NaN     Glendale        California   \n",
       "126        165 East Lane Road          NaN     Lakewood        California   \n",
       "7907       165 East Lane Road          NaN     Lakewood        California   \n",
       "12779        5621 Arcadia Pl.          NaN     Lynnwood        Washington   \n",
       "151          5621 Arcadia Pl.          NaN     Lynnwood        Washington   \n",
       "187         1039 Adelaide St.          NaN  West Covina        California   \n",
       "4376        1039 Adelaide St.          NaN  West Covina        California   \n",
       "13577  3964 Stony Hill Circle          NaN       Tacoma        Washington   \n",
       "194    3964 Stony Hill Circle          NaN       Tacoma        Washington   \n",
       "\n",
       "      CountryRegionName PostalCode   PhoneNumber   BirthDate        Education  \\\n",
       "5708      United States      91203  295-555-0145  1977-10-16  Partial College   \n",
       "34        United States      91203  295-555-0145  1977-10-16  Partial College   \n",
       "126       United States      90712  149-555-0113  1977-02-04      High School   \n",
       "7907      United States      90712  149-555-0113  1977-02-04      High School   \n",
       "12779     United States      98036  403-555-0152  1967-11-21       Bachelors    \n",
       "151       United States      98036  403-555-0152  1967-11-21       Bachelors    \n",
       "187       United States      91791  229-555-0114  1948-06-08  Partial College   \n",
       "4376      United States      91791  229-555-0114  1948-06-08  Partial College   \n",
       "13577     United States      98403  414-555-0147  1950-09-11  Partial College   \n",
       "194       United States      98403  414-555-0147  1950-09-11  Partial College   \n",
       "\n",
       "           Occupation Gender MaritalStatus  HomeOwnerFlag  NumberCarsOwned  \\\n",
       "5708   Skilled Manual      F             M              1                2   \n",
       "34     Skilled Manual      F             M              1                2   \n",
       "126    Skilled Manual      M             M              1                2   \n",
       "7907   Skilled Manual      M             M              1                2   \n",
       "12779      Management      F             M              1                2   \n",
       "151        Management      F             M              1                2   \n",
       "187      Professional      M             M              1                2   \n",
       "4376     Professional      M             M              1                2   \n",
       "13577    Professional      F             S              0                2   \n",
       "194      Professional      F             S              0                2   \n",
       "\n",
       "       NumberChildrenAtHome  TotalChildren  YearlyIncome  \n",
       "5708                      0              0         78170  \n",
       "34                        0              0         78170  \n",
       "126                       0              0         43666  \n",
       "7907                      0              0         43666  \n",
       "12779                     0              1         97616  \n",
       "151                       0              1         97616  \n",
       "187                       1              4         87565  \n",
       "4376                      1              4         87565  \n",
       "13577                     1              2         76220  \n",
       "194                       1              2         76220  "
      ]
     },
     "execution_count": 5,
     "metadata": {},
     "output_type": "execute_result"
    }
   ],
   "source": [
    "customers_dupes.sort_values(by='CustomerID').head(10)"
   ]
  },
  {
   "cell_type": "markdown",
   "metadata": {},
   "source": [
    "OK, but we still don't really know if there are any differences among these duplicate customers IDs. But maybe looking at the number of unique values would shed some light on things."
   ]
  },
  {
   "cell_type": "code",
   "execution_count": 6,
   "metadata": {},
   "outputs": [
    {
     "ename": "AttributeError",
     "evalue": "'DataFrame' object has no attribute 'nunique'",
     "output_type": "error",
     "traceback": [
      "\u001b[0;31m---------------------------------------------------------------------------\u001b[0m",
      "\u001b[0;31mAttributeError\u001b[0m                            Traceback (most recent call last)",
      "\u001b[0;32m<ipython-input-6-d4a22f10a1f1>\u001b[0m in \u001b[0;36m<module>\u001b[0;34m()\u001b[0m\n\u001b[0;32m----> 1\u001b[0;31m \u001b[0mcustomers_dupes\u001b[0m\u001b[0;34m.\u001b[0m\u001b[0mnunique\u001b[0m\u001b[0;34m(\u001b[0m\u001b[0;34m)\u001b[0m\u001b[0;34m\u001b[0m\u001b[0m\n\u001b[0m",
      "\u001b[0;32m~/anaconda3_420/lib/python3.5/site-packages/pandas/core/generic.py\u001b[0m in \u001b[0;36m__getattr__\u001b[0;34m(self, name)\u001b[0m\n\u001b[1;32m   2742\u001b[0m             \u001b[0;32mif\u001b[0m \u001b[0mname\u001b[0m \u001b[0;32min\u001b[0m \u001b[0mself\u001b[0m\u001b[0;34m.\u001b[0m\u001b[0m_info_axis\u001b[0m\u001b[0;34m:\u001b[0m\u001b[0;34m\u001b[0m\u001b[0m\n\u001b[1;32m   2743\u001b[0m                 \u001b[0;32mreturn\u001b[0m \u001b[0mself\u001b[0m\u001b[0;34m[\u001b[0m\u001b[0mname\u001b[0m\u001b[0;34m]\u001b[0m\u001b[0;34m\u001b[0m\u001b[0m\n\u001b[0;32m-> 2744\u001b[0;31m             \u001b[0;32mreturn\u001b[0m \u001b[0mobject\u001b[0m\u001b[0;34m.\u001b[0m\u001b[0m__getattribute__\u001b[0m\u001b[0;34m(\u001b[0m\u001b[0mself\u001b[0m\u001b[0;34m,\u001b[0m \u001b[0mname\u001b[0m\u001b[0;34m)\u001b[0m\u001b[0;34m\u001b[0m\u001b[0m\n\u001b[0m\u001b[1;32m   2745\u001b[0m \u001b[0;34m\u001b[0m\u001b[0m\n\u001b[1;32m   2746\u001b[0m     \u001b[0;32mdef\u001b[0m \u001b[0m__setattr__\u001b[0m\u001b[0;34m(\u001b[0m\u001b[0mself\u001b[0m\u001b[0;34m,\u001b[0m \u001b[0mname\u001b[0m\u001b[0;34m,\u001b[0m \u001b[0mvalue\u001b[0m\u001b[0;34m)\u001b[0m\u001b[0;34m:\u001b[0m\u001b[0;34m\u001b[0m\u001b[0m\n",
      "\u001b[0;31mAttributeError\u001b[0m: 'DataFrame' object has no attribute 'nunique'"
     ]
    }
   ],
   "source": [
    "customers_dupes.nunique()"
   ]
  },
  {
   "cell_type": "markdown",
   "metadata": {},
   "source": [
    "There are 115 unique customer IDs, but only 132 unique values for `AddressLine1` and 105 unique values for `PhoneNumber`, which supports the idea that some customers would have updated their information at some point. Some customers might have updated their yearly income as well, but there's reason to believe that there would naturally be duplicates in there anyway, so that's not a safe assumption to make.\n",
    "\n",
    "With some confidence we can drop rows with duplicate customer IDs, keeping the row with the higher index."
   ]
  },
  {
   "cell_type": "code",
   "execution_count": null,
   "metadata": {},
   "outputs": [],
   "source": [
    "customers.drop_duplicates(subset='CustomerID', keep='last', inplace=True)\n",
    "customers.shape"
   ]
  },
  {
   "cell_type": "code",
   "execution_count": null,
   "metadata": {},
   "outputs": [],
   "source": [
    "customers.describe()"
   ]
  },
  {
   "cell_type": "markdown",
   "metadata": {},
   "source": [
    "The dataframe we have now in still incomplete. It lacks two important columns: one that tracks how much each customer has spent per month at the store and whether or not the customer has purchased a bicycle. These feature are located in two other CSV files."
   ]
  },
  {
   "cell_type": "code",
   "execution_count": null,
   "metadata": {},
   "outputs": [],
   "source": [
    "customers_avg_spend = pd.read_csv('AW_AveMonthSpend.csv')\n",
    "customers_bike_buyer = pd.read_csv('AW_BikeBuyer.csv')"
   ]
  },
  {
   "cell_type": "code",
   "execution_count": null,
   "metadata": {},
   "outputs": [],
   "source": [
    "print(customers_avg_spend.shape)\n",
    "print(customers_bike_buyer.shape)"
   ]
  },
  {
   "cell_type": "markdown",
   "metadata": {},
   "source": [
    "These two new columns also seem to contain duplicates, so we'll run the operation above on them as well."
   ]
  },
  {
   "cell_type": "code",
   "execution_count": null,
   "metadata": {},
   "outputs": [],
   "source": [
    "for df in (customers_avg_spend, customers_bike_buyer):\n",
    "    df.drop_duplicates(subset='CustomerID', keep='last', inplace=True)\n",
    "\n",
    "print(customers_avg_spend.shape)\n",
    "print(customers_bike_buyer.shape)"
   ]
  },
  {
   "cell_type": "markdown",
   "metadata": {},
   "source": [
    "Now, let's show some summary stats for these two features."
   ]
  },
  {
   "cell_type": "code",
   "execution_count": null,
   "metadata": {},
   "outputs": [],
   "source": [
    "display(customers_avg_spend.describe())\n",
    "display(customers_bike_buyer.describe())"
   ]
  },
  {
   "cell_type": "markdown",
   "metadata": {},
   "source": [
    "Just to make further typing a little easier, we can attach the two new features to the primary dataframe."
   ]
  },
  {
   "cell_type": "code",
   "execution_count": null,
   "metadata": {},
   "outputs": [],
   "source": [
    "customer_data = customers.merge(customers_avg_spend, on='CustomerID').merge(customers_bike_buyer, on='CustomerID')\n",
    "customer_data.head()"
   ]
  },
  {
   "cell_type": "markdown",
   "metadata": {},
   "source": [
    "Another time-saving adjustment will be to make another feature that calculates a customer's age in years as it was on January 1st, 1998."
   ]
  },
  {
   "cell_type": "code",
   "execution_count": null,
   "metadata": {},
   "outputs": [],
   "source": [
    "customer_data['BirthDate'] = pd.to_datetime(customer_data['BirthDate'])\n",
    "customer_data['Age'] = customer_data['BirthDate'].apply(lambda x: int((pd.to_datetime('1998-01-01') - x).days / 365))\n",
    "customer_data['Age'].describe()"
   ]
  },
  {
   "cell_type": "markdown",
   "metadata": {},
   "source": [
    "And now for some plotting. Let's start with seeing the distribution of bike buyers and non-buyers."
   ]
  },
  {
   "cell_type": "code",
   "execution_count": null,
   "metadata": {},
   "outputs": [],
   "source": [
    "sns.countplot(data=customer_data, x='BikeBuyer')"
   ]
  },
  {
   "cell_type": "markdown",
   "metadata": {},
   "source": [
    "There are far fewer people who bought a bike compared to those who did not. This discrepency is going to be important later. The boosted decision tree that we going to use in senstive to class imbalances.\n",
    "\n",
    "And because the assignment has asked us to, let's see take a look at median yearly income as grouped by occupation."
   ]
  },
  {
   "cell_type": "code",
   "execution_count": null,
   "metadata": {},
   "outputs": [],
   "source": [
    "customer_data.groupby(by='Occupation')['YearlyIncome'].median()"
   ]
  },
  {
   "cell_type": "code",
   "execution_count": null,
   "metadata": {},
   "outputs": [],
   "source": [
    "sns.scatterplot(data=customer_data, x='Age', y='AveMonthSpend', hue='Gender', alpha=0.5)"
   ]
  },
  {
   "cell_type": "code",
   "execution_count": null,
   "metadata": {},
   "outputs": [],
   "source": [
    "sns.barplot(data=customer_data, x='MaritalStatus', y='AveMonthSpend')"
   ]
  },
  {
   "cell_type": "code",
   "execution_count": null,
   "metadata": {},
   "outputs": [],
   "source": [
    "customer_data.groupby(by='MaritalStatus').median()['YearlyIncome']"
   ]
  },
  {
   "cell_type": "code",
   "execution_count": null,
   "metadata": {},
   "outputs": [],
   "source": [
    "customer_data.groupby(by='NumberCarsOwned').median()['YearlyIncome']"
   ]
  },
  {
   "cell_type": "code",
   "execution_count": null,
   "metadata": {},
   "outputs": [],
   "source": [
    "customer_data.groupby(by='Gender').median()['YearlyIncome']"
   ]
  },
  {
   "cell_type": "code",
   "execution_count": null,
   "metadata": {},
   "outputs": [],
   "source": [
    "customer_data.groupby(by='NumberChildrenAtHome').median()['YearlyIncome']"
   ]
  },
  {
   "cell_type": "code",
   "execution_count": null,
   "metadata": {},
   "outputs": [],
   "source": [
    "customer_data.groupby(by='BikeBuyer').median()"
   ]
  },
  {
   "cell_type": "code",
   "execution_count": null,
   "metadata": {},
   "outputs": [],
   "source": [
    "customer_data[customer_data['BikeBuyer']==1]['MaritalStatus'].mode()"
   ]
  },
  {
   "cell_type": "markdown",
   "metadata": {},
   "source": [
    "## Classification\n",
    "\n",
    "Our first machine learning task is to predict which customers are likely to purchase a bicycle. To that end, we will be using the `BikeBuyer` feature as our label. The machine learning model we will employ is the boosted decision tree, one of the most effective ensemble methods.\n",
    "\n"
   ]
  },
  {
   "cell_type": "code",
   "execution_count": null,
   "metadata": {},
   "outputs": [],
   "source": [
    "from sklearn.ensemble import AdaBoostClassifier\n",
    "from sklearn import preprocessing\n",
    "from sklearn.model_selection import train_test_split\n",
    "import sklearn.metrics as sklm"
   ]
  },
  {
   "cell_type": "markdown",
   "metadata": {},
   "source": [
    "The first step is to split the data into training and testing divisions."
   ]
  },
  {
   "cell_type": "code",
   "execution_count": null,
   "metadata": {},
   "outputs": [],
   "source": [
    "X_train, X_test, y_train, y_test = train_test_split(\n",
    "    customer_data.drop(['BikeBuyer'], axis=1),\n",
    "    customer_data['BikeBuyer'],\n",
    "    test_size=0.3)"
   ]
  },
  {
   "cell_type": "markdown",
   "metadata": {},
   "source": [
    "Let's create a feature processing function. It will include the dupe-dropping procedure from above alone with steps to drop useless features, normalize numerical features, and enable one-hot encoding for categorical features."
   ]
  },
  {
   "cell_type": "code",
   "execution_count": null,
   "metadata": {},
   "outputs": [],
   "source": [
    "customer_data[['Title', 'PostalCode']]"
   ]
  },
  {
   "cell_type": "code",
   "execution_count": null,
   "metadata": {},
   "outputs": [],
   "source": [
    "def process(df):\n",
    "    df = df.drop_duplicates(subset='CustomerID', keep='last', inplace=True)\n",
    "    df = df[['']]"
   ]
  },
  {
   "cell_type": "code",
   "execution_count": null,
   "metadata": {},
   "outputs": [],
   "source": [
    "customer_data.info()"
   ]
  },
  {
   "cell_type": "code",
   "execution_count": null,
   "metadata": {},
   "outputs": [],
   "source": [
    "def process(df):\n",
    "    df.drop(['CustomerID', 'Title',\n",
    "             'FirstName', 'MiddleName',\n",
    "             'LastName', 'Suffix',\n",
    "             'AddressLine1', 'AddressLine2',\n",
    "             'StateProvinceName', 'CountryRegionName',\n",
    "             'PostalCode', 'PhoneNumber',\n",
    "             'BirthDate'], axis=1, inplace=True)"
   ]
  },
  {
   "cell_type": "code",
   "execution_count": null,
   "metadata": {},
   "outputs": [
    {
     "name": "stdout",
     "output_type": "stream",
     "text": [
      "Fetching package metadata ...............\n",
      "Solving package specifications: .\n",
      "\n",
      "Package plan for installation in environment /home/nbuser/anaconda3_420:\n",
      "\n",
      "The following NEW packages will be INSTALLED:\n",
      "\n",
      "    mkl_fft:      1.0.6-py35h7dd41cf_0 \n",
      "    mkl_random:   1.0.1-py35h4414c95_1 \n",
      "    readline:     7.0-ha6073c6_4       \n",
      "\n",
      "The following packages will be UPDATED:\n",
      "\n",
      "    conda:        4.3.31-py35_0         --> 4.5.11-py35_0        \n",
      "    conda-env:    2.6.0-h36134e3_1      --> 2.6.0-1              \n",
      "    libgcc-ng:    7.2.0-h7cc24e2_2      --> 8.2.0-hdf63c60_1     \n",
      "    libstdcxx-ng: 7.2.0-h7a57d05_2      --> 8.2.0-hdf63c60_1     \n",
      "    numpy:        1.11.3-py35h1b885b7_9 --> 1.15.2-py35h1d66e8a_0\n",
      "    numpy-base:   1.11.3-py35h3dfced4_9 --> 1.15.2-py35h81de0dd_0\n",
      "    pandas:       0.19.2-np111py35_1    --> 0.23.4-py35h04863e7_0\n",
      "    pycosat:      0.6.1-py35_1          --> 0.6.3-py35h14c3975_0 \n",
      "    scikit-learn: 0.19.1-py35hbf1f462_0 --> 0.20.0-py35h4989274_1\n",
      "    seaborn:      0.8-py35_0            --> 0.9.0-py35_0         \n",
      "    statsmodels:  0.6.1-np111py35_1     --> 0.9.0-py35h3010b51_0 \n",
      "\n",
      "conda-env-2.6. 100% |################################| Time: 0:00:00   2.40 MB/s\n",
      "libgcc-ng-8.2. 100% |################################| Time: 0:00:00  19.48 MB/s\n",
      "libstdcxx-ng-8 100% |################################| Time: 0:00:00  20.38 MB/s\n",
      "readline-7.0-h 100% |################################| Time: 0:00:00  20.50 MB/s\n",
      "numpy-base-1.1 100% |################################| Time: 0:00:00  20.50 MB/s\n",
      "pycosat-0.6.3- 100% |################################| Time: 0:00:00  27.54 MB/s\n",
      "conda-4.5.11-p 100% |################################| Time: 0:00:00  20.09 MB/s\n",
      "mkl_fft-1.0.6- 100% |################################| Time: 0:00:00  24.91 MB/s\n",
      "mkl_random-1.0 100% |################################| Time: 0:00:00  11.50 MB/s\n",
      "numpy-1.15.2-p 100% |################################| Time: 0:00:00  25.28 MB/s\n",
      "pandas-0.23.4- 100% |################################| Time: 0:00:00  20.51 MB/s\n",
      "scikit-learn-0 100% |################################| Time: 0:00:00  20.81 MB/s\n",
      "statsmodels-0. 100% |################################| Time: 0:00:00  20.50 MB/s\n",
      "seaborn-0.9.0- 100% |################################| Time: 0:00:00  21.88 MB/s\n"
     ]
    }
   ],
   "source": [
    "!conda update -y numpy pandas scikit-learn seaborn"
   ]
  }
 ],
 "metadata": {
  "kernelspec": {
   "display_name": "Python 3",
   "language": "python",
   "name": "python3"
  },
  "language_info": {
   "codemirror_mode": {
    "name": "ipython",
    "version": 3
   },
   "file_extension": ".py",
   "mimetype": "text/x-python",
   "name": "python",
   "nbconvert_exporter": "python",
   "pygments_lexer": "ipython3",
   "version": "3.7.0"
  }
 },
 "nbformat": 4,
 "nbformat_minor": 2
}
