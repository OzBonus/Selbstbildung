{
 "cells": [
  {
   "cell_type": "markdown",
   "metadata": {
    "deletable": true,
    "editable": true
   },
   "source": [
    "# Lab 5 - Time series prediction with LSTM (IOT Data)\n",
    "\n",
    "This lab corresponds to Module 5 of the \"Deep Learning Explained\" course.\n",
    "\n",
    "In this lab we want to build a model using some real world internet-of-things ([IOT](https://en.wikipedia.org/wiki/Internet_of_things)) data. As an example we want to predict the daily output of a solar panel base on the initial readings of the day. \n",
    "\n",
    "[Solar power forecasting](https://en.wikipedia.org/wiki/Solar_power_forecasting) is a challenging and important problem. The solar energy generation forecasting problem is closely linked to the problem of weather variables forecasting. Indeed, this problem is usually split into two parts, on one hand focusing on the forecasting of solar PV (solar panel system) or any other meteorological variable and on the other hand estimating the amount of energy that a concrete power plant will produce with the estimated meteorological resource. In general, the way to deal with this difficult problem is usually related to the spatial and temporal scales we are interested in. This lab focusses on a simplified forecasting model using previously generated data from solar panel to predict the future. \n",
    "\n",
    "**Goal**\n",
    "\n",
    "Using historic daily production of a solar panel, we want to predict the total power production of the solar panel array for a future day. We will be using an LSTM based time series prediction model to predict the daily output of a solar panel based on the initial readings of a the day. \n",
    "\n",
    "![rooftop-solar](https://www.cntk.ai/jup/rooftop-solar-power.jpg)\n",
    "\n",
    "We train the model with historical data of the solar panel. In our example we want to predict the total power production of the solar panel array for the day starting with the initial readings of the day. We start predicting after the first 2 readings and adjust the prediction with each new reading.\n",
    "\n",
    "We will use a recurrent model with the LSTM cell. This lab has the following sub-sections:\n",
    "- Setup\n",
    "- Data generation\n",
    "- LSTM network modeling\n",
    "- Training, test and prediction workflow\n",
    "\n",
    "For more details on how LSTMs work, view the Module 5 videos or see [this excellent post](http://colah.github.io/posts/2015-08-Understanding-LSTMs)."
   ]
  },
  {
   "cell_type": "markdown",
   "metadata": {
    "deletable": true,
    "editable": true
   },
   "source": [
    "# Setup"
   ]
  },
  {
   "cell_type": "code",
   "execution_count": 1,
   "metadata": {
    "collapsed": true,
    "deletable": true,
    "editable": true
   },
   "outputs": [],
   "source": [
    "from matplotlib import pyplot as plt\n",
    "import math\n",
    "import numpy as np\n",
    "import os\n",
    "import pandas as pd\n",
    "import random\n",
    "import time\n",
    "\n",
    "import cntk as C\n",
    "\n",
    "try:\n",
    "    from urllib.request import urlretrieve\n",
    "except ImportError:\n",
    "    from urllib import urlretrieve\n",
    "\n",
    "%matplotlib inline"
   ]
  },
  {
   "cell_type": "code",
   "execution_count": 2,
   "metadata": {
    "collapsed": true,
    "deletable": true,
    "editable": true
   },
   "outputs": [],
   "source": [
    "# to make things reproduceable, seed random\n",
    "np.random.seed(0)\n",
    "C.cntk_py.set_fixed_random_seed(1)\n",
    "C.cntk_py.force_deterministic_algorithms()"
   ]
  },
  {
   "cell_type": "markdown",
   "metadata": {
    "deletable": true,
    "editable": true
   },
   "source": [
    "In the block below, we check if we are running this notebook in the CNTK internal test machines by looking for environment variables defined there. We then select the right target device (GPU vs CPU) to test this notebook. In other cases, we use CNTK's default policy to use the best available device (GPU, if available, else CPU)."
   ]
  },
  {
   "cell_type": "code",
   "execution_count": 3,
   "metadata": {
    "collapsed": true,
    "deletable": true,
    "editable": true
   },
   "outputs": [],
   "source": [
    "if 'TEST_DEVICE' in os.environ:\n",
    "    if os.environ['TEST_DEVICE'] == 'cpu':\n",
    "        C.device.try_set_default_device(C.device.cpu())\n",
    "    else:\n",
    "        C.device.try_set_default_device(C.device.gpu(0))"
   ]
  },
  {
   "cell_type": "code",
   "execution_count": 4,
   "metadata": {
    "collapsed": true,
    "deletable": true,
    "editable": true
   },
   "outputs": [],
   "source": [
    "# Test for CNTK version\n",
    "if not C.__version__ == \"2.6\":\n",
    "    raise Exception(\"this notebook was designed to work with 2.6. Current Version: \" + C.__version__) "
   ]
  },
  {
   "cell_type": "markdown",
   "metadata": {
    "deletable": true,
    "editable": true
   },
   "source": [
    "There are two training modes that we can choose from for this lab:\n",
    "- *Fast mode*: `isFast` is set to `True`. This is the default mode for the notebooks, which means we train for fewer iterations or train / test on limited data. This ensures functional correctness of the notebook though the models produced are far from what a completed training would produce.\n",
    "\n",
    "- *Slow mode*: We recommend the user to set this flag to `False` once the user has gained familiarity with the notebook content and wants to gain insight from running the notebooks for a longer period with different parameters for training. \n",
    "\n",
    "For *Fast mode* we train the model for 100 epochs and results have low accuracy but is good enough for development. The model yields good accuracy after 1000-2000 epochs."
   ]
  },
  {
   "cell_type": "code",
   "execution_count": 5,
   "metadata": {
    "collapsed": true,
    "deletable": true,
    "editable": true
   },
   "outputs": [],
   "source": [
    "isFast = False\n",
    "\n",
    "# we need around 2000 epochs to see good accuracy. For testing 100 epochs will do.\n",
    "EPOCHS = 200 if isFast else 2000"
   ]
  },
  {
   "cell_type": "markdown",
   "metadata": {
    "deletable": true,
    "editable": true
   },
   "source": [
    "# Data generation\n",
    "\n",
    "Our solar panel emits two measures at 30 min interval:\n",
    "- `solar.current` is the current production in Watt\n",
    "- `solar.total` is the total produced for the day so far in Watt/hour\n",
    "\n",
    "Our prediction approach involves starting with the first 2 initial readings of the day. Based on these readings we start predicting and adjust the prediction with each new reading. The training data we are going to use comes as a CSV file and has the following format:\n",
    "\n",
    ">```\n",
    "time,solar.current,solar.total\n",
    "7am,6.3,1.7\n",
    "7:30am,44.3,11.4\n",
    "...\n",
    ">```\n",
    "\n",
    "Our training dataset contains 3 years of captured data and can be found [here](https://guschmueds.blob.core.windows.net/datasets/solar.csv). \n",
    "The dataset is not pre-processed: it is raw data and contains smaller gaps and errors (like a panel failed to report)."
   ]
  },
  {
   "cell_type": "markdown",
   "metadata": {
    "deletable": true,
    "editable": true
   },
   "source": [
    "## Pre-processing\n",
    "Most of the code in this example is related to data preparation. Thankfully the pandas library make this easy.\n",
    "\n",
    "Below, we define a `generate_solar_data()` function that performs the following tasks:\n",
    "- read raw data into a pandas dataframe\n",
    "- normalize the data\n",
    "- group the data by day\n",
    "- append the columns \"solar.current.max\" and \"solar.total.max\"\n",
    "- generate the sequences for each day\n",
    "\n",
    "** Sequence Generation ** The measurements for a day are grouped into a set of sequences, corresponding to each measurement for the day.  Each measurement sequence will contain all of the raw measurements (solar.current, solar.total) seen for the current day, up until and including the current measurement.  \n",
    "\n",
    "Here is an example of some sequehnces for a day:\n",
    "```\n",
    "1.7,11.4 -> 10300\n",
    "1.7,11.4,67.5 -> 10300\n",
    "1.7,11.4,67.5,250.5 ... -> 10300\n",
    "1.7,11.4,67.5,250.5,573.5 -> 10300\n",
    "```\n",
    "\n",
    "All sequences for all days are flattened into a single list of sequences. The day and timestamp information have been removed; only the sequences matter.\n",
    "\n",
    "**Note** if we have less than 8 datapoints for a day we skip over the day assuming something is missing in the raw data. If we get more than 14 data points in a day we truncate the readings.\n",
    "\n",
    "## Training / Testing / Validation data preparation\n",
    "We start by reading the CSV file. The raw data is sorted by time.  Normally, we would randomize the data before splitting into training, validation and test datasets, but this would make it impractical to visualize results. \n",
    "\n",
    "Hence, we split the dataset in the following manner: pick the following (in sequence order): 8 values for training, 1 for validation and 1 for test until there is no more data. This will spread training, validation and test datasets across the full timeline while preserving time order.\n"
   ]
  },
  {
   "cell_type": "code",
   "execution_count": 6,
   "metadata": {
    "collapsed": true,
    "deletable": true,
    "editable": true
   },
   "outputs": [],
   "source": [
    "def generate_solar_data(input_url, time_steps, normalize=1, val_size=0.1, test_size=0.1):\n",
    "    \"\"\"\n",
    "    generate sequences to feed to rnn based on data frame with solar panel data\n",
    "    the csv has the format: time ,solar.current, solar.total\n",
    "     (solar.current is the current output in Watt, solar.total is the total production\n",
    "      for the day so far in Watt hours)\n",
    "    \"\"\"\n",
    "    # try to find the data file local. If it doesn't exists download it.\n",
    "    cache_path = os.path.join(\"data\", \"iot\")\n",
    "    cache_file = os.path.join(cache_path, \"solar.csv\")\n",
    "    if not os.path.exists(cache_path):\n",
    "        os.makedirs(cache_path)\n",
    "    if not os.path.exists(cache_file):\n",
    "        urlretrieve(input_url, cache_file)\n",
    "        print(\"downloaded data successfully from \", input_url)\n",
    "    else:\n",
    "        print(\"using cache for \", input_url)\n",
    "    \n",
    "    df = pd.read_csv(cache_file, index_col=\"time\", parse_dates=['time'], dtype=np.float32)\n",
    "    \n",
    "    df[\"date\"] = df.index.date\n",
    "    \n",
    "    # normalize data\n",
    "    df['solar.current'] /= normalize\n",
    "    df['solar.total'] /= normalize\n",
    "    \n",
    "    # group by day, find the max for a day and add a new column .max\n",
    "    grouped = df.groupby(df.index.date).max()\n",
    "    grouped.columns = [\"solar.current.max\", \"solar.total.max\", \"date\"]\n",
    "\n",
    "    # merge continuous readings and daily max values into a single frame\n",
    "    df_merged = pd.merge(df, grouped, right_index=True, on=\"date\")\n",
    "    df_merged = df_merged[[\"solar.current\", \"solar.total\",\n",
    "                           \"solar.current.max\", \"solar.total.max\"]]\n",
    "    # we group by day so we can process a day at a time.\n",
    "    grouped = df_merged.groupby(df_merged.index.date)\n",
    "    per_day = []\n",
    "    for _, group in grouped:\n",
    "        per_day.append(group)\n",
    "\n",
    "    # split the dataset into train, validatation and test sets on day boundaries\n",
    "    val_size = int(len(per_day) * val_size)\n",
    "    test_size = int(len(per_day) * test_size)\n",
    "    next_val = 0\n",
    "    next_test = 0\n",
    "\n",
    "    result_x = {\"train\": [], \"val\": [], \"test\": []}\n",
    "    result_y = {\"train\": [], \"val\": [], \"test\": []}    \n",
    "\n",
    "    # generate sequences a day at a time\n",
    "    for i, day in enumerate(per_day):\n",
    "        # if we have less than 8 datapoints for a day we skip over the\n",
    "        # day assuming something is missing in the raw data\n",
    "        total = day[\"solar.total\"].values\n",
    "        if len(total) < 8:\n",
    "            continue\n",
    "        if i >= next_val:\n",
    "            current_set = \"val\"\n",
    "            next_val = i + int(len(per_day) / val_size)\n",
    "        elif i >= next_test:\n",
    "            current_set = \"test\"\n",
    "            next_test = i + int(len(per_day) / test_size)\n",
    "        else:\n",
    "            current_set = \"train\"\n",
    "        max_total_for_day = np.array(day[\"solar.total.max\"].values[0])\n",
    "        for j in range(2, len(total)):\n",
    "            result_x[current_set].append(total[0:j])\n",
    "            result_y[current_set].append([max_total_for_day])\n",
    "            if j >= time_steps:\n",
    "                break\n",
    "    # make result_y a numpy array\n",
    "    for ds in [\"train\", \"val\", \"test\"]:\n",
    "        result_y[ds] = np.array(result_y[ds])\n",
    "    return result_x, result_y"
   ]
  },
  {
   "cell_type": "markdown",
   "metadata": {
    "deletable": true,
    "editable": true
   },
   "source": [
    "## Data caching\n",
    "For routine testing we would like to cache the data locally when available. If it is not available from the cache locations we shall download."
   ]
  },
  {
   "cell_type": "code",
   "execution_count": 7,
   "metadata": {
    "collapsed": false,
    "deletable": true,
    "editable": true
   },
   "outputs": [
    {
     "name": "stdout",
     "output_type": "stream",
     "text": [
      "using cache for  https://www.cntk.ai/jup/dat/solar.csv\n"
     ]
    }
   ],
   "source": [
    "# there are 14 lstm cells, 1 for each possible reading we get per day\n",
    "TIMESTEPS = 14\n",
    "\n",
    "# 20000 is the maximum total output in our dataset. We normalize all values with \n",
    "# this so our inputs are between 0.0 and 1.0 range.\n",
    "NORMALIZE = 20000\n",
    "\n",
    "X, Y = generate_solar_data(\"https://www.cntk.ai/jup/dat/solar.csv\", \n",
    "                           TIMESTEPS, normalize=NORMALIZE)"
   ]
  },
  {
   "cell_type": "markdown",
   "metadata": {
    "deletable": true,
    "editable": true
   },
   "source": [
    "### Utility for data fetching\n",
    "\n",
    "`next_batch()` yields the next batch for training. We use variable size sequences supported by CNTK and batches are a list of numpy arrays where the numpy arrays have variable length. \n",
    "\n",
    "A standard practice is to shuffle batches with each epoch. We don't do this here because we want to be able to graph the data that is easily interpretable."
   ]
  },
  {
   "cell_type": "code",
   "execution_count": 8,
   "metadata": {
    "collapsed": true,
    "deletable": true,
    "editable": true
   },
   "outputs": [],
   "source": [
    "# process batches of 10 days\n",
    "BATCH_SIZE = TIMESTEPS * 10\n",
    "\n",
    "def next_batch(x, y, ds):\n",
    "    \"\"\"get the next batch for training\"\"\"\n",
    "\n",
    "    def as_batch(data, start, count):\n",
    "        return data[start:start + count]\n",
    "\n",
    "    for i in range(0, len(x[ds]), BATCH_SIZE):\n",
    "        yield as_batch(X[ds], i, BATCH_SIZE), as_batch(Y[ds], i, BATCH_SIZE)"
   ]
  },
  {
   "cell_type": "markdown",
   "metadata": {
    "deletable": true,
    "editable": true
   },
   "source": [
    "### Understand the data format\n",
    "You can now see the sequence we are going to feed to the LSTM. Note if we have less than 8 datapoints for a day we skip over the day assuming something is missing in the raw data. If we get more than 14 data points in a day we truncate the readings."
   ]
  },
  {
   "cell_type": "code",
   "execution_count": 9,
   "metadata": {
    "collapsed": false,
    "deletable": true,
    "editable": true
   },
   "outputs": [
    {
     "data": {
      "text/plain": [
       "[array([0.       , 0.0006985], dtype=float32),\n",
       " array([0.       , 0.0006985, 0.0033175], dtype=float32),\n",
       " array([0.       , 0.0006985, 0.0033175, 0.010375 ], dtype=float32)]"
      ]
     },
     "execution_count": 9,
     "metadata": {},
     "output_type": "execute_result"
    }
   ],
   "source": [
    "X['train'][0:3]"
   ]
  },
  {
   "cell_type": "code",
   "execution_count": 10,
   "metadata": {
    "collapsed": false,
    "deletable": true,
    "editable": true
   },
   "outputs": [
    {
     "data": {
      "text/plain": [
       "array([[0.239],\n",
       "       [0.239],\n",
       "       [0.239]], dtype=float32)"
      ]
     },
     "execution_count": 10,
     "metadata": {},
     "output_type": "execute_result"
    }
   ],
   "source": [
    "Y['train'][0:3]"
   ]
  },
  {
   "cell_type": "markdown",
   "metadata": {
    "deletable": true,
    "editable": true
   },
   "source": [
    "## LSTM network setup\n",
    "\n",
    "LSTM will automatically adapt to the maximum sequence length of our data; we **do not need to specify this maximum length** as part of our model and we **do not need to pad** our variable length sequences in any way.\n",
    "\n",
    "We model our network with H_DIMS = 14 LSTM cells, which we have found (by trying other values) produces good prediction results for our problem.  \n",
    "\n",
    "\n",
    "The output of the neural network is the total output for the day and each sequence for a given day has the same total output.\n",
    "\n",
    "For example:\n",
    "```\n",
    "1.7,11.4 -> 10300\n",
    "1.7,11.4,67.5 -> 10300\n",
    "1.7,11.4,67.5,250.5 ... -> 10300\n",
    "1.7,11.4,67.5,250.5,573.5 -> 10300\n",
    "```\n",
    "\n",
    "The outputs from the LSTMs are feed into a dense layer and we randomly dropout 20% of the values to not overfit the model to the training set. The output of the dense layer becomes the prediction our model generates.\n",
    "\n",
    "Our LSTM model has the following design:\n",
    "![lstm](https://guschmueds.blob.core.windows.net/datasets/2.png)\n",
    "\n",
    "The network model is an exact translation of the network diagram above."
   ]
  },
  {
   "cell_type": "code",
   "execution_count": 11,
   "metadata": {
    "collapsed": true,
    "deletable": true,
    "editable": true
   },
   "outputs": [],
   "source": [
    "#Define the size of the internal state\n",
    "H_DIMS = 14\n",
    "def create_model(x):\n",
    "    \"\"\"Create the model for time series prediction\"\"\"\n",
    "    with C.layers.default_options(initial_state = 0.1):\n",
    "        m = C.layers.Recurrence(C.layers.LSTM(H_DIMS))(x)\n",
    "        m = C.sequence.last(m)\n",
    "        m = C.layers.Dropout(0.2)(m)\n",
    "        m = C.layers.Dense(1)(m)\n",
    "        return m"
   ]
  },
  {
   "cell_type": "markdown",
   "metadata": {
    "deletable": true,
    "editable": true
   },
   "source": [
    "# Training\n",
    "Before we can start training we need to bind our input variables for the model and define which optimizer we want to use. For this example we choose the `adam` optimizer. We choose `squared_error` as our loss function."
   ]
  },
  {
   "cell_type": "code",
   "execution_count": 12,
   "metadata": {
    "collapsed": false,
    "deletable": true,
    "editable": true
   },
   "outputs": [],
   "source": [
    "# input sequences\n",
    "x = C.sequence.input_variable(1)\n",
    "\n",
    "# create the model\n",
    "z = create_model(x)\n",
    "\n",
    "# expected output (label), also the dynamic axes of the model output\n",
    "# is specified as the model of the label input\n",
    "l = C.input_variable(1, dynamic_axes=z.dynamic_axes, name=\"y\")\n",
    "\n",
    "# the learning rate\n",
    "learning_rate = 0.005\n",
    "lr_schedule = C.learning_rate_schedule(learning_rate, C.UnitType.minibatch)\n",
    "\n",
    "# loss and error function\n",
    "loss = C.squared_error(z, l)\n",
    "error = C.squared_error(z, l)\n",
    "\n",
    "# Use absolute error as per homework instructions.\n",
    "# loss = C.abs(z - l)\n",
    "# error = C.abs(z - l)\n",
    "\n",
    "# use adam optimizer\n",
    "momentum_time_constant = C.momentum_as_time_constant_schedule(BATCH_SIZE / -math.log(0.9)) \n",
    "learner = C.fsadagrad(z.parameters, \n",
    "                      lr = lr_schedule, \n",
    "                      momentum = momentum_time_constant)\n",
    "\n",
    "trainer = C.Trainer(z, (loss, error), [learner])"
   ]
  },
  {
   "cell_type": "markdown",
   "metadata": {
    "deletable": true,
    "editable": true
   },
   "source": [
    "Time to start training."
   ]
  },
  {
   "cell_type": "code",
   "execution_count": 13,
   "metadata": {
    "collapsed": false,
    "deletable": true,
    "editable": true
   },
   "outputs": [
    {
     "name": "stdout",
     "output_type": "stream",
     "text": [
      "epoch: 0, loss: 0.1127\n",
      "Time so far: 1.2 seconds\n",
      "epoch: 200, loss: 0.0071\n",
      "Time so far: 182.1 seconds\n",
      "epoch: 400, loss: 0.0070\n",
      "Time so far: 361.1 seconds\n",
      "epoch: 600, loss: 0.0075\n",
      "Time so far: 539.1 seconds\n",
      "epoch: 800, loss: 0.0070\n",
      "Time so far: 716.5 seconds\n",
      "epoch: 1000, loss: 0.0074\n",
      "Time so far: 897.2 seconds\n",
      "epoch: 1200, loss: 0.0071\n",
      "Time so far: 1093.6 seconds\n",
      "epoch: 1400, loss: 0.0066\n",
      "Time so far: 1290.1 seconds\n",
      "epoch: 1600, loss: 0.0065\n",
      "Time so far: 1470.0 seconds\n",
      "epoch: 1800, loss: 0.0065\n",
      "Time so far: 1650.3 seconds\n",
      "Training took 1828.1 seconds\n"
     ]
    }
   ],
   "source": [
    "# training\n",
    "loss_summary = []\n",
    "\n",
    "start = time.time()\n",
    "for epoch in range(0, EPOCHS):\n",
    "    for x_batch, l_batch in next_batch(X, Y, \"train\"):\n",
    "        trainer.train_minibatch({x: x_batch, l: l_batch})\n",
    "        \n",
    "    if epoch % (EPOCHS / 10) == 0:\n",
    "        training_loss = trainer.previous_minibatch_loss_average\n",
    "        loss_summary.append(training_loss)\n",
    "        print(f'epoch: {epoch}, loss: {training_loss:.4f}')\n",
    "        print(f'Time so far: {time.time() - start:.1f} seconds')\n",
    "\n",
    "print(\"Training took {:.1f} seconds\".format(time.time() - start))"
   ]
  },
  {
   "cell_type": "markdown",
   "metadata": {
    "deletable": true,
    "editable": true
   },
   "source": [
    "**NOTE**: Slow training under default conditions took 1733.6 seconds (about 29 minutes).\n",
    "\n",
    "A look how the loss function shows how the model is converging:"
   ]
  },
  {
   "cell_type": "code",
   "execution_count": 14,
   "metadata": {
    "collapsed": false,
    "deletable": true,
    "editable": true,
    "scrolled": true
   },
   "outputs": [
    {
     "data": {
      "image/png": "[encoded data removed]",
      "text/plain": [
       "<Figure size 432x288 with 1 Axes>"
      ]
     },
     "metadata": {
      "needs_background": "light"
     },
     "output_type": "display_data"
    }
   ],
   "source": [
    "plt.plot(loss_summary, label='training loss');"
   ]
  },
  {
   "cell_type": "markdown",
   "metadata": {
    "deletable": true,
    "editable": true
   },
   "source": [
    "Let us evaluate our performance for the training, validation, and test datasets. We use mean squared error as our metric which might be a little simplistic. A method that would define a ratio of how many predictions have been inside a given tolerance would make a better measure.\n",
    "\n",
    "**Suggested Exploration:** Try out absolute error (`C.abs(z-l)`) instead of a squared error. "
   ]
  },
  {
   "cell_type": "code",
   "execution_count": 15,
   "metadata": {
    "collapsed": true,
    "deletable": true,
    "editable": true
   },
   "outputs": [],
   "source": [
    "# evaluate the specified X and Y data on our model\n",
    "def get_error(X,Y,labeltxt):\n",
    "    result = 0.0\n",
    "    numbatches = 0\n",
    "    for x1, y1 in next_batch(X, Y, labeltxt):\n",
    "        eval_error = trainer.test_minibatch({x : x1, l : y1})\n",
    "        result += eval_error\n",
    "        numbatches += 1\n",
    "\n",
    "    return float(result)/numbatches"
   ]
  },
  {
   "cell_type": "code",
   "execution_count": 16,
   "metadata": {
    "collapsed": false,
    "deletable": true,
    "editable": true
   },
   "outputs": [
    {
     "name": "stdout",
     "output_type": "stream",
     "text": [
      "* * * * * * * * * * * * * * * * * * * * * * * * * * * * * * * * * * * * * * * * \n",
      "********************************************************************************\n",
      "Error for train 0.0069\n",
      "Error for val 0.0059\n",
      "********************************************************************************\n",
      "* * * * * * * * * * * * * * * * * * * * * * * * * * * * * * * * * * * * * * * * \n"
     ]
    }
   ],
   "source": [
    "# Print the training and validation errors\n",
    "print('* '*40)\n",
    "print('*'*80)\n",
    "for labeltxt in [\"train\", \"val\"]:\n",
    "    print(f'Error for {labeltxt} {get_error(X, Y, labeltxt):.4f}')\n",
    "print('*'*80)\n",
    "print('* '*40)"
   ]
  },
  {
   "cell_type": "code",
   "execution_count": 17,
   "metadata": {
    "collapsed": false,
    "deletable": true,
    "editable": true
   },
   "outputs": [
    {
     "name": "stdout",
     "output_type": "stream",
     "text": [
      "* * * * * * * * * * * * * * * * * * * * * * * * * * * * * * * * * * * * * * * * \n",
      "********************************************************************************\n",
      "Error for test: 0.0063\n",
      "********************************************************************************\n",
      "* * * * * * * * * * * * * * * * * * * * * * * * * * * * * * * * * * * * * * * * \n"
     ]
    }
   ],
   "source": [
    "print('* '*40)\n",
    "print('*'*80)\n",
    "\n",
    "# Print the test error\n",
    "labeltxt = \"test\"\n",
    "print(\"Error for {}: {:.4f}\".format(labeltxt, get_error(X, Y, labeltxt)))\n",
    "\n",
    "print('*'*80)\n",
    "print('* '*40)"
   ]
  },
  {
   "cell_type": "markdown",
   "metadata": {
    "deletable": true,
    "editable": true
   },
   "source": [
    "# Visualize the prediction\n",
    "\n",
    "Our model has been trained well, given that the training, validation and test errors are in the same ballpark. To better understand our predictions, let's visualize the results.  We will take our newly created model, make predictions and plot them against the actual readings."
   ]
  },
  {
   "cell_type": "code",
   "execution_count": 18,
   "metadata": {
    "collapsed": false,
    "deletable": true,
    "editable": true,
    "scrolled": false
   },
   "outputs": [
    {
     "data": {
      "image/png": "[encoded data removed]",
      "text/plain": [
       "<Figure size 864x576 with 2 Axes>"
      ]
     },
     "metadata": {
      "needs_background": "light"
     },
     "output_type": "display_data"
    }
   ],
   "source": [
    "# predict\n",
    "f, a = plt.subplots(2, 1, figsize=(12, 8))\n",
    "for j, ds in enumerate([\"val\", \"test\"]):\n",
    "    results = []\n",
    "    for x_batch, _ in next_batch(X, Y, ds):\n",
    "        pred = z.eval({x: x_batch})\n",
    "        results.extend(pred[:, 0])\n",
    "    # because we normalized the input data we need to multiply the prediction\n",
    "    # with SCALER to get the real values.\n",
    "    a[j].plot((Y[ds] * NORMALIZE).flatten(), label=ds + ' raw');\n",
    "    a[j].plot(np.array(results) * NORMALIZE, label=ds + ' pred');\n",
    "    a[j].legend();"
   ]
  },
  {
   "cell_type": "markdown",
   "metadata": {
    "deletable": true,
    "editable": true
   },
   "source": [
    "If we let the model train for 2000 epochs the predictions are close to the actual data and follow the right pattern."
   ]
  },
  {
   "cell_type": "markdown",
   "metadata": {
    "deletable": true,
    "editable": true
   },
   "source": [
    "** Suggested Exploration **\n",
    "\n",
    "So what we do with this model? A practical application would be to generate alerts if the actual output is not in line with the prediction, for example if one of the panels is failing. The solar array that goes with our dataset has 16 panels. If we'd want to detect failure without generating false alerts, the accuracy of our prediction would need to be at least 1 - 1/16, around 94%. Our model is close to this but would most likely generate occasional false alerts.\n",
    "\n",
    "- Improve the model by training for more epochs.\n",
    "- Further preprocess the training set to smooth-out missing values\n",
    "- Try out more complex networks.\n",
    "\n",
    "In our experience with time series data, one can achieve significant accuracy improvement using higher resolution training data, for example, reading a data point every 5 minutes instead of every 30 minutes.\n",
    "\n",
    "We hope this tutorial gets you started on time series prediction with neural networks."
   ]
  },
  {
   "cell_type": "markdown",
   "metadata": {},
   "source": [
    "## Explorations\n",
    "\n",
    "The test error rate using default settings is around $0.0087$ to $0.0091$ which is already pretty good, let's try a few things.\n",
    "\n",
    "* What is the result of using **absolute error** as the loss and error functions, rather than the default **squared error**?\n",
    "    * The error incresed significantly.\n",
    "* The default dropout rate is $0.2$. What is the effect of using a dropout rate of $0.5$ and $0.9$?\n",
    "    * A dropout rate of $0.5$ led to an error rate of $0.0092$.\n",
    "    * A dropout rate of $0.9$ led to an error rate of $0.0143$.\n",
    "* By default the number of hidden dimensions in the LSTM unit is $14$. How do vaules of $7$ and $14$ perform?\n",
    "    * Using $7$ dimensions led to an error rate of $0.0095$.\n",
    "    * Using $28$ dimensions led to an error rate of $0.0096$.\n",
    "* How is the test error effected by replacing the LSTM cells with RNNStep cells?\n",
    "    * The test error was $0.0329$."
   ]
  }
 ],
 "metadata": {
  "anaconda-cloud": {},
  "kernelspec": {
   "display_name": "Python 3",
   "language": "python",
   "name": "python3"
  },
  "language_info": {
   "codemirror_mode": {
    "name": "ipython",
    "version": 3
   },
   "file_extension": ".py",
   "mimetype": "text/x-python",
   "name": "python",
   "nbconvert_exporter": "python",
   "pygments_lexer": "ipython3",
   "version": "3.6.7"
  }
 },
 "nbformat": 4,
 "nbformat_minor": 2
}
