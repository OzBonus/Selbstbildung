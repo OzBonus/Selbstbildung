{
 "cells": [
  {
   "cell_type": "markdown",
   "metadata": {},
   "source": [
    "# Introduction to Statistics & Data Analysis\n",
    "### Roxy Peck, Chris Olsen, Jay L. Devore\n",
    "\n",
    "I went through quite a few statistics courses at univeristy years ago, and come to enjoy the discipline very much. However, a great period of disuse of the knowledge and having had only the experience of working things out on paper (or sometimes a spreadsheet) leads to to going through this textbook with Jupyter notebooks. I will mostly just be going through exercises and building graphs, but with a few other notes here and there."
   ]
  },
  {
   "cell_type": "markdown",
   "metadata": {},
   "source": [
    "# Chapter 1\n",
    "## The Role of Statistics and the Data Analysis Process"
   ]
  },
  {
   "cell_type": "markdown",
   "metadata": {},
   "source": [
    "### 1.1 Why Study Statistics?\n",
    "\n",
    "> \"Without data, you are just another person with an opinion.\""
   ]
  },
  {
   "cell_type": "markdown",
   "metadata": {},
   "source": [
    "# Stopped\n",
    "Frequency Distributions and Bar Charts for Categorical Data"
   ]
  }
 ],
 "metadata": {
  "anaconda-cloud": {},
  "kernelspec": {
   "display_name": "Python [conda root]",
   "language": "python",
   "name": "conda-root-py"
  },
  "language_info": {
   "codemirror_mode": {
    "name": "ipython",
    "version": 3
   },
   "file_extension": ".py",
   "mimetype": "text/x-python",
   "name": "python",
   "nbconvert_exporter": "python",
   "pygments_lexer": "ipython3",
   "version": "3.5.2"
  }
 },
 "nbformat": 4,
 "nbformat_minor": 1
}
