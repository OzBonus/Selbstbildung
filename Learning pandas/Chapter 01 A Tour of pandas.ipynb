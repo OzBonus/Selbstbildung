{
 "cells": [
  {
   "cell_type": "markdown",
   "metadata": {},
   "source": [
    "# Imports, etc.\n",
    "\n",
    "This'll be how pretty much every try at data analysis with pandas will look like"
   ]
  },
  {
   "cell_type": "code",
   "execution_count": 15,
   "metadata": {
    "collapsed": false
   },
   "outputs": [],
   "source": [
    "# Import numpy, pandas, DataFrame, and Series.\n",
    "import numpy as np\n",
    "import pandas as pd\n",
    "from pandas import DataFrame, Series\n",
    "\n",
    "# Set some pandas options.\n",
    "pd.set_option('display.notebook_repr_html', False)\n",
    "pd.set_option('display.max_columns', 10)\n",
    "pd.set_option('display.max_rows', 10)\n",
    "\n",
    "# Some items for matplotlib.\n",
    "# CHANGES HAVE BEEN MADE FROM THE BOOK DUE TO NEWER SOFTWARE.\n",
    "import matplotlib\n",
    "matplotlib.style.use('ggplot')\n",
    "import matplotlib.pyplot as plt\n",
    "%matplotlib inline"
   ]
  },
  {
   "cell_type": "markdown",
   "metadata": {},
   "source": [
    "# The pandas `Series` Object\n",
    "\n",
    "Using pandas means spending much of your time with two kinds of objects provided by pandas, DataFrame and Series."
   ]
  },
  {
   "cell_type": "code",
   "execution_count": 77,
   "metadata": {
    "collapsed": false
   },
   "outputs": [
    {
     "name": "stdout",
     "output_type": "stream",
     "text": [
      "<class 'pandas.core.series.Series'>\n",
      "0    1\n",
      "1    2\n",
      "2    3\n",
      "3    4\n",
      "dtype: int64\n"
     ]
    }
   ],
   "source": [
    "# Create a four-item Series.\n",
    "s = Series([1, 2, 3, 4])\n",
    "print(type(s))\n",
    "print(s)"
   ]
  },
  {
   "cell_type": "markdown",
   "metadata": {},
   "source": [
    "The left column in the printed Series is the index of each element. The right column are the elements themselves. All elements in a Series must be of the same type. Varies of different types will be coerced appropriately.\n",
    "\n",
    "Accessing elements by index isn't terribly different, but double brackets are required. It's important to remember that the bracket notation below is referring the values of the indicies insofar as they can be conceived as labels, rather than as zero-based positions."
   ]
  },
  {
   "cell_type": "code",
   "execution_count": 78,
   "metadata": {
    "collapsed": false
   },
   "outputs": [
    {
     "name": "stdout",
     "output_type": "stream",
     "text": [
      "1    2\n",
      "3    4\n",
      "dtype: int64\n",
      "<class 'pandas.core.series.Series'>\n"
     ]
    }
   ],
   "source": [
    "# Return a Series with the rows having the indicies 1 and 3.\n",
    "print(s[[1, 3]])\n",
    "print(type(s[[1, 3]]))"
   ]
  },
  {
   "cell_type": "markdown",
   "metadata": {},
   "source": [
    "The elements in a Series object can be given custom labels. The lengths of the lists used for elements and labels must be identical."
   ]
  },
  {
   "cell_type": "code",
   "execution_count": 79,
   "metadata": {
    "collapsed": false
   },
   "outputs": [
    {
     "name": "stdout",
     "output_type": "stream",
     "text": [
      "a    1\n",
      "b    2\n",
      "c    3\n",
      "d    4\n",
      "dtype: int64\n"
     ]
    }
   ],
   "source": [
    "s = Series(\n",
    "    [1, 2, 3, 4],\n",
    "    index = ['a', 'b', 'c', 'd']\n",
    ")\n",
    "\n",
    "print(s)"
   ]
  },
  {
   "cell_type": "markdown",
   "metadata": {},
   "source": [
    "The new labels can be used to return elements. Numeric indicies can still be used, though."
   ]
  },
  {
   "cell_type": "code",
   "execution_count": 80,
   "metadata": {
    "collapsed": false
   },
   "outputs": [
    {
     "name": "stdout",
     "output_type": "stream",
     "text": [
      "a    1\n",
      "d    4\n",
      "dtype: int64\n",
      "a    1\n",
      "d    4\n",
      "dtype: int64\n"
     ]
    }
   ],
   "source": [
    "print(s[['a', 'd']])\n",
    "print(s[[0, 3]])"
   ]
  },
  {
   "cell_type": "markdown",
   "metadata": {},
   "source": [
    "It's possible to access directly the indicies and basic `numpy` array of a `Series` object."
   ]
  },
  {
   "cell_type": "code",
   "execution_count": 81,
   "metadata": {
    "collapsed": false
   },
   "outputs": [
    {
     "name": "stdout",
     "output_type": "stream",
     "text": [
      "Index(['a', 'b', 'c', 'd'], dtype='object')\n",
      "<class 'pandas.core.index.Index'>\n",
      "[1 2 3 4]\n",
      "<class 'numpy.ndarray'>\n"
     ]
    }
   ],
   "source": [
    "print(s.index)\n",
    "print(type(s.index))\n",
    "print(s.values)\n",
    "print(type(s.values))"
   ]
  },
  {
   "cell_type": "markdown",
   "metadata": {},
   "source": [
    "pandas has the ability to create special time series objects where dates can be used as labels, created by using the `pd.date_range()` method. Dates are in ISO YYYY-MM-DD format.\n",
    "\n",
    "The start and end dates defined are inclusive."
   ]
  },
  {
   "cell_type": "code",
   "execution_count": 82,
   "metadata": {
    "collapsed": false
   },
   "outputs": [
    {
     "name": "stdout",
     "output_type": "stream",
     "text": [
      "<class 'pandas.tseries.index.DatetimeIndex'>\n",
      "2014-07-01 00:00:00\n",
      "2014-07-02 00:00:00\n",
      "2014-07-03 00:00:00\n",
      "2014-07-04 00:00:00\n",
      "2014-07-05 00:00:00\n",
      "2014-07-06 00:00:00\n"
     ]
    }
   ],
   "source": [
    "# Create a Series with a range of dates as labels.\n",
    "dates = pd.date_range('2014-07-01', '2014-07-6')\n",
    "print(type(dates))\n",
    "for d in dates:\n",
    "    print(d)"
   ]
  },
  {
   "cell_type": "markdown",
   "metadata": {},
   "source": [
    "Such an index is of little use on its own, but it can be assigned to another Series and there used as a special kind of label."
   ]
  },
  {
   "cell_type": "code",
   "execution_count": 83,
   "metadata": {
    "collapsed": false
   },
   "outputs": [
    {
     "name": "stdout",
     "output_type": "stream",
     "text": [
      "<class 'pandas.core.series.Series'>\n",
      "2014-07-01    80\n",
      "2014-07-02    82\n",
      "2014-07-03    85\n",
      "2014-07-04    90\n",
      "2014-07-05    83\n",
      "2014-07-06    87\n",
      "Freq: D, dtype: int64\n"
     ]
    }
   ],
   "source": [
    "# Create a series of floats that represent temperatures.\n",
    "temps1 = Series([80, 82, 85, 90, 83, 87], index = dates)\n",
    "\n",
    "print(type(temps1))\n",
    "print(temps1)"
   ]
  },
  {
   "cell_type": "markdown",
   "metadata": {},
   "source": [
    "Touching on the realm of statistics, some convenience functions are available through `pandas`, thanks to being built on top of `numpy`, but by no means should one assume that `pandas` is capable of real stats."
   ]
  },
  {
   "cell_type": "code",
   "execution_count": 84,
   "metadata": {
    "collapsed": false
   },
   "outputs": [
    {
     "name": "stdout",
     "output_type": "stream",
     "text": [
      "84.5\n"
     ]
    }
   ],
   "source": [
    "print(temps1.mean())"
   ]
  },
  {
   "cell_type": "markdown",
   "metadata": {},
   "source": [
    "pandas can do element-wise arithmetic, as one would expect."
   ]
  },
  {
   "cell_type": "code",
   "execution_count": 85,
   "metadata": {
    "collapsed": false
   },
   "outputs": [
    {
     "name": "stdout",
     "output_type": "stream",
     "text": [
      "2014-07-01    70\n",
      "2014-07-02    75\n",
      "2014-07-03    69\n",
      "2014-07-04    83\n",
      "2014-07-05    79\n",
      "2014-07-06    77\n",
      "Freq: D, dtype: int64\n",
      "2014-07-01    10\n",
      "2014-07-02     7\n",
      "2014-07-03    16\n",
      "2014-07-04     7\n",
      "2014-07-05     4\n",
      "2014-07-06    10\n",
      "Freq: D, dtype: int64\n"
     ]
    }
   ],
   "source": [
    "temps2 = Series([70, 75, 69, 83, 79, 77], index = dates)\n",
    "print(temps2)\n",
    "\n",
    "temp_diffs = temps1 - temps2\n",
    "print(temp_diffs)"
   ]
  },
  {
   "cell_type": "markdown",
   "metadata": {},
   "source": [
    "A time series index can still be accessed numerically."
   ]
  },
  {
   "cell_type": "code",
   "execution_count": 86,
   "metadata": {
    "collapsed": false
   },
   "outputs": [
    {
     "name": "stdout",
     "output_type": "stream",
     "text": [
      "16\n"
     ]
    }
   ],
   "source": [
    "print(temp_diffs[2])"
   ]
  },
  {
   "cell_type": "markdown",
   "metadata": {},
   "source": [
    "# The pandas `DataFrame` Object\n",
    "\n",
    "Here's where things get cool and interesting. A `DataFrame` object in pandas is very much like the kind found in R. It's analogous to a database table, with labels for rows (observations) and columns (variables), which themselves are Series objects.\n",
    "\n",
    "A `DataFrame` can be creted by putting together multiple `Series`."
   ]
  },
  {
   "cell_type": "code",
   "execution_count": 87,
   "metadata": {
    "collapsed": false,
    "scrolled": true
   },
   "outputs": [
    {
     "name": "stdout",
     "output_type": "stream",
     "text": [
      "<class 'pandas.core.frame.DataFrame'>\n",
      "            Missoula  Philadelphia\n",
      "2014-07-01        80            70\n",
      "2014-07-02        82            75\n",
      "2014-07-03        85            69\n",
      "2014-07-04        90            83\n",
      "2014-07-05        83            79\n",
      "2014-07-06        87            77\n"
     ]
    }
   ],
   "source": [
    "# Combine temps1 and temps2 into a two-dimensional DataFrame\n",
    "# and assign them some names.\n",
    "temps_df = DataFrame(\n",
    "    {'Missoula': temps1, 'Philadelphia': temps2}\n",
    ")\n",
    "\n",
    "print(type(temps_df))\n",
    "print(temps_df)"
   ]
  },
  {
   "cell_type": "markdown",
   "metadata": {},
   "source": [
    "Passing a column label returns returns the relevent `Series`."
   ]
  },
  {
   "cell_type": "code",
   "execution_count": 88,
   "metadata": {
    "collapsed": false
   },
   "outputs": [
    {
     "name": "stdout",
     "output_type": "stream",
     "text": [
      "<class 'pandas.core.series.Series'>\n",
      "2014-07-01    80\n",
      "2014-07-02    82\n",
      "2014-07-03    85\n",
      "2014-07-04    90\n",
      "2014-07-05    83\n",
      "2014-07-06    87\n",
      "Freq: D, Name: Missoula, dtype: int64\n",
      "\n",
      "<class 'pandas.core.series.Series'>\n",
      "2014-07-01    70\n",
      "2014-07-02    75\n",
      "2014-07-03    69\n",
      "2014-07-04    83\n",
      "2014-07-05    79\n",
      "2014-07-06    77\n",
      "Freq: D, Name: Philadelphia, dtype: int64\n"
     ]
    }
   ],
   "source": [
    "print(type(temps_df['Missoula']))\n",
    "print(temps_df['Missoula'])\n",
    "print()\n",
    "print(type(temps_df['Philadelphia']))\n",
    "print(temps_df['Philadelphia'])"
   ]
  },
  {
   "cell_type": "markdown",
   "metadata": {},
   "source": [
    "A list of labels can be passed, returning another `DataFrame`. The list elements can be in any order and they will be returned in kind. Notice the extra brackets."
   ]
  },
  {
   "cell_type": "code",
   "execution_count": 89,
   "metadata": {
    "collapsed": false
   },
   "outputs": [
    {
     "name": "stdout",
     "output_type": "stream",
     "text": [
      "<class 'pandas.core.frame.DataFrame'>\n",
      "            Philadelphia  Missoula\n",
      "2014-07-01            70        80\n",
      "2014-07-02            75        82\n",
      "2014-07-03            69        85\n",
      "2014-07-04            83        90\n",
      "2014-07-05            79        83\n",
      "2014-07-06            77        87\n"
     ]
    }
   ],
   "source": [
    "print(type(temps_df[['Philadelphia', 'Missoula']]))\n",
    "print(temps_df[['Philadelphia', 'Missoula']])"
   ]
  },
  {
   "cell_type": "markdown",
   "metadata": {},
   "source": [
    "Conveniently, if a column label has no spaces, it can be accessed like an object property."
   ]
  },
  {
   "cell_type": "code",
   "execution_count": 90,
   "metadata": {
    "collapsed": false
   },
   "outputs": [
    {
     "name": "stdout",
     "output_type": "stream",
     "text": [
      "<class 'pandas.core.series.Series'>\n",
      "2014-07-01    80\n",
      "2014-07-02    82\n",
      "2014-07-03    85\n",
      "2014-07-04    90\n",
      "2014-07-05    83\n",
      "2014-07-06    87\n",
      "Freq: D, Name: Missoula, dtype: int64\n"
     ]
    }
   ],
   "source": [
    "print(type(temps_df.Missoula))\n",
    "print(temps_df.Missoula)"
   ]
  },
  {
   "cell_type": "markdown",
   "metadata": {},
   "source": [
    "We can do some arithmetic operations, like so."
   ]
  },
  {
   "cell_type": "code",
   "execution_count": 91,
   "metadata": {
    "collapsed": false
   },
   "outputs": [
    {
     "name": "stdout",
     "output_type": "stream",
     "text": [
      "<class 'pandas.core.series.Series'>\n",
      "2014-07-01    10\n",
      "2014-07-02     7\n",
      "2014-07-03    16\n",
      "2014-07-04     7\n",
      "2014-07-05     4\n",
      "2014-07-06    10\n",
      "Freq: D, dtype: int64\n"
     ]
    }
   ],
   "source": [
    "# Calculate the temperature differences between the two cities.\n",
    "print(type(temps_df.Missoula - temps_df.Philadelphia))\n",
    "print(temps_df.Missoula - temps_df.Philadelphia)"
   ]
  },
  {
   "cell_type": "markdown",
   "metadata": {},
   "source": [
    "New columns can be added to a `DataFrame` by using array indexer bracket notation."
   ]
  },
  {
   "cell_type": "code",
   "execution_count": 92,
   "metadata": {
    "collapsed": false
   },
   "outputs": [
    {
     "name": "stdout",
     "output_type": "stream",
     "text": [
      "            Missoula  Philadelphia  Difference\n",
      "2014-07-01        80            70          10\n",
      "2014-07-02        82            75           7\n",
      "2014-07-03        85            69          16\n",
      "2014-07-04        90            83           7\n",
      "2014-07-05        83            79           4\n",
      "2014-07-06        87            77          10\n"
     ]
    }
   ],
   "source": [
    "temps_df['Difference'] = temp_diffs\n",
    "print(temps_df)"
   ]
  },
  {
   "cell_type": "markdown",
   "metadata": {},
   "source": [
    "`DataFrame` objects all have a `columns` attribute."
   ]
  },
  {
   "cell_type": "code",
   "execution_count": 93,
   "metadata": {
    "collapsed": false
   },
   "outputs": [
    {
     "name": "stdout",
     "output_type": "stream",
     "text": [
      "<class 'pandas.core.index.Index'>\n",
      "Index(['Missoula', 'Philadelphia', 'Difference'], dtype='object')\n"
     ]
    }
   ],
   "source": [
    "print(type(temps_df.columns))\n",
    "print(temps_df.columns)"
   ]
  },
  {
   "cell_type": "markdown",
   "metadata": {},
   "source": [
    "Columns can be sliced."
   ]
  },
  {
   "cell_type": "code",
   "execution_count": 94,
   "metadata": {
    "collapsed": false
   },
   "outputs": [
    {
     "name": "stdout",
     "output_type": "stream",
     "text": [
      "2014-07-02     7\n",
      "2014-07-03    16\n",
      "2014-07-04     7\n",
      "Freq: D, Name: Difference, dtype: int64\n"
     ]
    }
   ],
   "source": [
    "print(temps_df.Difference[1:4])"
   ]
  },
  {
   "cell_type": "markdown",
   "metadata": {},
   "source": [
    "Rows can be retrieved from a `DataFrame` by using `.loc` (label) and `.iloc` (index) properties."
   ]
  },
  {
   "cell_type": "code",
   "execution_count": 95,
   "metadata": {
    "collapsed": false
   },
   "outputs": [
    {
     "name": "stdout",
     "output_type": "stream",
     "text": [
      "<class 'pandas.core.series.Series'>\n",
      "Missoula        82\n",
      "Philadelphia    75\n",
      "Difference       7\n",
      "Name: 2014-07-02 00:00:00, dtype: int64\n",
      "\n",
      "<class 'pandas.core.series.Series'>\n",
      "Missoula        85\n",
      "Philadelphia    69\n",
      "Difference      16\n",
      "Name: 2014-07-03 00:00:00, dtype: int64\n"
     ]
    }
   ],
   "source": [
    "print(type(temps_df.iloc[1]))\n",
    "print(temps_df.iloc[1])\n",
    "print()\n",
    "print(type(temps_df.loc['2014-07-03']))\n",
    "print(temps_df.loc['2014-07-03'])"
   ]
  },
  {
   "cell_type": "markdown",
   "metadata": {},
   "source": [
    "You can give a list of interger positions to retrieve multiple rows from a `DataFrame`."
   ]
  },
  {
   "cell_type": "code",
   "execution_count": 96,
   "metadata": {
    "collapsed": false
   },
   "outputs": [
    {
     "name": "stdout",
     "output_type": "stream",
     "text": [
      "2014-07-02     7\n",
      "2014-07-04     7\n",
      "2014-07-06    10\n",
      "Freq: 2D, Name: Difference, dtype: int64\n"
     ]
    }
   ],
   "source": [
    "# Retrieve three specified values from Differences column.\n",
    "print(temps_df.iloc[[1, 3, 5]].Difference)"
   ]
  },
  {
   "cell_type": "markdown",
   "metadata": {},
   "source": [
    "Rows can be selected with logical expressions as well."
   ]
  },
  {
   "cell_type": "code",
   "execution_count": 97,
   "metadata": {
    "collapsed": false
   },
   "outputs": [
    {
     "name": "stdout",
     "output_type": "stream",
     "text": [
      "2014-07-01    False\n",
      "2014-07-02    False\n",
      "2014-07-03     True\n",
      "2014-07-04     True\n",
      "2014-07-05     True\n",
      "2014-07-06     True\n",
      "Freq: D, Name: Missoula, dtype: bool\n",
      "\n",
      "            Missoula  Philadelphia  Difference\n",
      "2014-07-03        85            69          16\n",
      "2014-07-04        90            83           7\n",
      "2014-07-05        83            79           4\n",
      "2014-07-06        87            77          10\n"
     ]
    }
   ],
   "source": [
    "# Make a Series of boolean values.\n",
    "print(temps_df.Missoula > 82)\n",
    "print()\n",
    "# Use a logical expression within brackets as a selector.\n",
    "print(temps_df[temps_df.Missoula > 82])"
   ]
  },
  {
   "cell_type": "markdown",
   "metadata": {},
   "source": [
    "# Loading CSV Data from Files\n",
    "\n",
    "`.csv` support is built into pandas and is basically magic. Some `.csv` files require some settings to be flipped before becoming readable, though."
   ]
  },
  {
   "cell_type": "code",
   "execution_count": 98,
   "metadata": {
    "collapsed": false
   },
   "outputs": [
    {
     "name": "stdout",
     "output_type": "stream",
     "text": [
      "date,0,1,2\n",
      "2000-01-01 00:00:00,1.10376250134,-1.90997889703,-0.808955536115\n",
      "2000-01-02 00:00:00,1.18891664768,0.581119740849,0.86159734949\n",
      "2000-01-03 00:00:00,-0.964200042412,0.779764393246,1.82906224532\n",
      "2000-01-04 00:00:00,0.782130444001,-1.72066965573,-1.10824167327\n",
      "2000-01-05 00:00:00,-1.86701699823,-0.528368292754,-2.48830894087\n",
      "2000-01-06 00:00:00,2.56928022646,-0.471901478927,-0.835033249865\n",
      "2000-01-07 00:00:00,-0.39932258251,-0.676426550985,-0.0112559158931\n",
      "2000-01-08 00:00:00,1.64299299394,1.01341997845,1.43566709724\n",
      "2000-01-09 00:00:00,1.14730764657,2.13799951538,0.554171306191\n",
      "2000-01-10 00:00:00,0.933765825769,1.38715526486,-0.560142729978\n"
     ]
    }
   ],
   "source": [
    "# Display contents of test1.csv\n",
    "# Commands are OS dependent.\n",
    "\n",
    "# POSIX\n",
    "# !cat data/test1.csv\n",
    "\n",
    "# Windows\n",
    "!type data\\test1.csv"
   ]
  },
  {
   "cell_type": "markdown",
   "metadata": {},
   "source": [
    "This information can be imported into a `DataFrame` object easily."
   ]
  },
  {
   "cell_type": "code",
   "execution_count": 99,
   "metadata": {
    "collapsed": false
   },
   "outputs": [
    {
     "name": "stdout",
     "output_type": "stream",
     "text": [
      "                  date         0         1         2\n",
      "0  2000-01-01 00:00:00  1.103763 -1.909979 -0.808956\n",
      "1  2000-01-02 00:00:00  1.188917  0.581120  0.861597\n",
      "2  2000-01-03 00:00:00 -0.964200  0.779764  1.829062\n",
      "3  2000-01-04 00:00:00  0.782130 -1.720670 -1.108242\n",
      "4  2000-01-05 00:00:00 -1.867017 -0.528368 -2.488309\n",
      "5  2000-01-06 00:00:00  2.569280 -0.471901 -0.835033\n",
      "6  2000-01-07 00:00:00 -0.399323 -0.676427 -0.011256\n",
      "7  2000-01-08 00:00:00  1.642993  1.013420  1.435667\n",
      "8  2000-01-09 00:00:00  1.147308  2.138000  0.554171\n",
      "9  2000-01-10 00:00:00  0.933766  1.387155 -0.560143\n"
     ]
    }
   ],
   "source": [
    "# Read contents into a DataFrame.\n",
    "# Windows needs that stupid \n",
    "df = pd.read_csv(r'data\\test1.csv')\n",
    "print(df)"
   ]
  },
  {
   "cell_type": "markdown",
   "metadata": {},
   "source": [
    "pandas is great and all, but it couldn't figure out that the date column was supposed to be a time series index. As is, the values in the date column are string type, rather than date. This needs to be addressed while the `DataFrame` is being created."
   ]
  },
  {
   "cell_type": "code",
   "execution_count": 100,
   "metadata": {
    "collapsed": false
   },
   "outputs": [
    {
     "name": "stdout",
     "output_type": "stream",
     "text": [
      "        date         0         1         2\n",
      "0 2000-01-01  1.103763 -1.909979 -0.808956\n",
      "1 2000-01-02  1.188917  0.581120  0.861597\n",
      "2 2000-01-03 -0.964200  0.779764  1.829062\n",
      "3 2000-01-04  0.782130 -1.720670 -1.108242\n",
      "4 2000-01-05 -1.867017 -0.528368 -2.488309\n",
      "5 2000-01-06  2.569280 -0.471901 -0.835033\n",
      "6 2000-01-07 -0.399323 -0.676427 -0.011256\n",
      "7 2000-01-08  1.642993  1.013420  1.435667\n",
      "8 2000-01-09  1.147308  2.138000  0.554171\n",
      "9 2000-01-10  0.933766  1.387155 -0.560143\n"
     ]
    }
   ],
   "source": [
    "# Read the file into a DataFrame, properly handling the dates.\n",
    "# It's necessary to have visually examined the file first.\n",
    "df = pd.read_csv(r'data\\test1.csv', parse_dates=['date'])\n",
    "print(df)"
   ]
  },
  {
   "cell_type": "markdown",
   "metadata": {},
   "source": [
    "The date column now hold the correct data type, but the dates are still not being used as indicies."
   ]
  },
  {
   "cell_type": "code",
   "execution_count": 101,
   "metadata": {
    "collapsed": false
   },
   "outputs": [
    {
     "name": "stdout",
     "output_type": "stream",
     "text": [
      "<class 'pandas.tslib.Timestamp'>\n",
      "Int64Index([0, 1, 2, 3, 4, 5, 6, 7, 8, 9], dtype='int64')\n"
     ]
    }
   ],
   "source": [
    "print(type(df.date[0]))\n",
    "print(df.index)"
   ]
  },
  {
   "cell_type": "markdown",
   "metadata": {},
   "source": [
    "The `index_col` parameter will sort this mess out."
   ]
  },
  {
   "cell_type": "code",
   "execution_count": 102,
   "metadata": {
    "collapsed": false
   },
   "outputs": [
    {
     "data": {
      "text/plain": [
       "                   0         1         2\n",
       "date                                    \n",
       "2000-01-01  1.103763 -1.909979 -0.808956\n",
       "2000-01-02  1.188917  0.581120  0.861597\n",
       "2000-01-03 -0.964200  0.779764  1.829062\n",
       "2000-01-04  0.782130 -1.720670 -1.108242\n",
       "2000-01-05 -1.867017 -0.528368 -2.488309\n",
       "2000-01-06  2.569280 -0.471901 -0.835033\n",
       "2000-01-07 -0.399323 -0.676427 -0.011256\n",
       "2000-01-08  1.642993  1.013420  1.435667\n",
       "2000-01-09  1.147308  2.138000  0.554171\n",
       "2000-01-10  0.933766  1.387155 -0.560143"
      ]
     },
     "execution_count": 102,
     "metadata": {},
     "output_type": "execute_result"
    }
   ],
   "source": [
    "df = pd.read_csv(\n",
    "    r'data\\test1.csv',\n",
    "    parse_dates=['date'],\n",
    "    index_col='date'\n",
    ")\n",
    "\n",
    "df"
   ]
  },
  {
   "cell_type": "code",
   "execution_count": 103,
   "metadata": {
    "collapsed": false
   },
   "outputs": [
    {
     "data": {
      "text/plain": [
       "DatetimeIndex(['2000-01-01', '2000-01-02', '2000-01-03', '2000-01-04',\n",
       "               '2000-01-05', '2000-01-06', '2000-01-07', '2000-01-08',\n",
       "               '2000-01-09', '2000-01-10'],\n",
       "              dtype='datetime64[ns]', name='date', freq=None)"
      ]
     },
     "execution_count": 103,
     "metadata": {},
     "output_type": "execute_result"
    }
   ],
   "source": [
    "df.index"
   ]
  },
  {
   "cell_type": "markdown",
   "metadata": {},
   "source": [
    "# Loading Data from the Web"
   ]
  },
  {
   "cell_type": "markdown",
   "metadata": {
    "collapsed": true
   },
   "source": [
    "pandas can also pull data from sources on the Web using the `pandas.data.DataReader` class (and maybe others)."
   ]
  },
  {
   "cell_type": "code",
   "execution_count": 2,
   "metadata": {
    "collapsed": false
   },
   "outputs": [
    {
     "data": {
      "text/html": [
       "<div>\n",
       "<table border=\"1\" class=\"dataframe\">\n",
       "  <thead>\n",
       "    <tr style=\"text-align: right;\">\n",
       "      <th></th>\n",
       "      <th>Open</th>\n",
       "      <th>High</th>\n",
       "      <th>Low</th>\n",
       "      <th>Close</th>\n",
       "      <th>Volume</th>\n",
       "      <th>Adj Close</th>\n",
       "    </tr>\n",
       "    <tr>\n",
       "      <th>Date</th>\n",
       "      <th></th>\n",
       "      <th></th>\n",
       "      <th></th>\n",
       "      <th></th>\n",
       "      <th></th>\n",
       "      <th></th>\n",
       "    </tr>\n",
       "  </thead>\n",
       "  <tbody>\n",
       "    <tr>\n",
       "      <th>2016-02-08</th>\n",
       "      <td>667.849976</td>\n",
       "      <td>684.030029</td>\n",
       "      <td>663.059998</td>\n",
       "      <td>682.739990</td>\n",
       "      <td>4212500</td>\n",
       "      <td>682.739990</td>\n",
       "    </tr>\n",
       "    <tr>\n",
       "      <th>2016-02-09</th>\n",
       "      <td>672.320007</td>\n",
       "      <td>699.900024</td>\n",
       "      <td>668.770020</td>\n",
       "      <td>678.109985</td>\n",
       "      <td>3604300</td>\n",
       "      <td>678.109985</td>\n",
       "    </tr>\n",
       "    <tr>\n",
       "      <th>2016-02-10</th>\n",
       "      <td>686.859985</td>\n",
       "      <td>701.309998</td>\n",
       "      <td>682.130005</td>\n",
       "      <td>684.119995</td>\n",
       "      <td>2627400</td>\n",
       "      <td>684.119995</td>\n",
       "    </tr>\n",
       "    <tr>\n",
       "      <th>2016-02-11</th>\n",
       "      <td>675.000000</td>\n",
       "      <td>689.349976</td>\n",
       "      <td>668.867981</td>\n",
       "      <td>683.109985</td>\n",
       "      <td>3007200</td>\n",
       "      <td>683.109985</td>\n",
       "    </tr>\n",
       "    <tr>\n",
       "      <th>2016-02-12</th>\n",
       "      <td>690.260010</td>\n",
       "      <td>693.750000</td>\n",
       "      <td>678.599976</td>\n",
       "      <td>682.400024</td>\n",
       "      <td>2129800</td>\n",
       "      <td>682.400024</td>\n",
       "    </tr>\n",
       "  </tbody>\n",
       "</table>\n",
       "</div>"
      ],
      "text/plain": [
       "                  Open        High         Low       Close   Volume  \\\n",
       "Date                                                                  \n",
       "2016-02-08  667.849976  684.030029  663.059998  682.739990  4212500   \n",
       "2016-02-09  672.320007  699.900024  668.770020  678.109985  3604300   \n",
       "2016-02-10  686.859985  701.309998  682.130005  684.119995  2627400   \n",
       "2016-02-11  675.000000  689.349976  668.867981  683.109985  3007200   \n",
       "2016-02-12  690.260010  693.750000  678.599976  682.400024  2129800   \n",
       "\n",
       "             Adj Close  \n",
       "Date                    \n",
       "2016-02-08  682.739990  \n",
       "2016-02-09  678.109985  \n",
       "2016-02-10  684.119995  \n",
       "2016-02-11  683.109985  \n",
       "2016-02-12  682.400024  "
      ]
     },
     "execution_count": 2,
     "metadata": {},
     "output_type": "execute_result"
    }
   ],
   "source": [
    "# Imports for reading data from Yahoo! servers.\n",
    "from pandas.io.data import DataReader\n",
    "from datetime import date\n",
    "from dateutil.relativedelta import relativedelta\n",
    "\n",
    "# Read the last three months of GOOG data into a DataFrame.\n",
    "goog = DataReader(\n",
    "    'GOOG',\n",
    "    'yahoo',\n",
    "    date.today() + relativedelta(months=-3)\n",
    ")\n",
    "\n",
    "# Print the five most recent dates.\n",
    "goog.tail()"
   ]
  },
  {
   "cell_type": "markdown",
   "metadata": {},
   "source": [
    "# Visualization of pandas Data\n",
    "\n",
    "`pandas` is tightly integrated with `matplotlib`, making plotting easy, if it works. The Yahoo! Finance data can be plotted in a single line."
   ]
  },
  {
   "cell_type": "code",
   "execution_count": 14,
   "metadata": {
    "collapsed": false
   },
   "outputs": [
    {
     "data": {
      "text/plain": [
       "<matplotlib.axes._subplots.AxesSubplot at 0x1ff72aadc88>"
      ]
     },
     "execution_count": 14,
     "metadata": {},
     "output_type": "execute_result"
    },
    {
     "data": {
      "image/png": "[encoded data removed]",
      "text/plain": [
       "<matplotlib.figure.Figure at 0x1ff72ae4320>"
      ]
     },
     "metadata": {},
     "output_type": "display_data"
    }
   ],
   "source": [
    "# Plot the Adj Close values against the dates.\n",
    "goog.plot(y='Adj Close')"
   ]
  }
 ],
 "metadata": {
  "kernelspec": {
   "display_name": "Python 3",
   "language": "python",
   "name": "python3"
  },
  "language_info": {
   "codemirror_mode": {
    "name": "ipython",
    "version": 3
   },
   "file_extension": ".py",
   "mimetype": "text/x-python",
   "name": "python",
   "nbconvert_exporter": "python",
   "pygments_lexer": "ipython3",
   "version": "3.5.1"
  }
 },
 "nbformat": 4,
 "nbformat_minor": 0
}
