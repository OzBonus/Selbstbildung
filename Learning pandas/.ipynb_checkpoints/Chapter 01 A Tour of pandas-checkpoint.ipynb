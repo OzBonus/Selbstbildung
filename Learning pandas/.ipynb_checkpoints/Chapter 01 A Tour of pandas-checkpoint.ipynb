{
 "cells": [
  {
   "cell_type": "markdown",
   "metadata": {},
   "source": [
    "# Imports, etc.\n",
    "\n",
    "This'll be how pretty much every try at data analysis with pandas will look like"
   ]
  },
  {
   "cell_type": "code",
   "execution_count": 1,
   "metadata": {
    "collapsed": true
   },
   "outputs": [],
   "source": [
    "# Import numpy, pandas, DataFrame, and Series.\n",
    "import numpy as np\n",
    "import pandas as pd\n",
    "from pandas import DataFrame, Series\n",
    "\n",
    "# Set some pandas options.\n",
    "pd.set_option('display.notebook_repr_html', False)\n",
    "pd.set_option('display.max_columns', 10)\n",
    "pd.set_option('display.max_rows', 10)\n",
    "\n",
    "# Some items for matplotlib.\n",
    "%matplotlib inline\n",
    "import matplotlib.pyplot as plt\n",
    "pd.options.display.mpl_style = 'default'"
   ]
  },
  {
   "cell_type": "markdown",
   "metadata": {},
   "source": [
    "# The pandas `Series` Object\n",
    "\n",
    "Using pandas means spending much of your time with two kinds of objects provided by pandas, DataFrame and Series."
   ]
  },
  {
   "cell_type": "code",
   "execution_count": 4,
   "metadata": {
    "collapsed": false
   },
   "outputs": [
    {
     "name": "stdout",
     "output_type": "stream",
     "text": [
      "<class 'pandas.core.series.Series'>\n",
      "0    1\n",
      "1    2\n",
      "2    3\n",
      "3    4\n",
      "dtype: int64\n"
     ]
    }
   ],
   "source": [
    "# Create a four-item Series.\n",
    "s = Series([1, 2, 3, 4])\n",
    "print(type(s))\n",
    "print(s)"
   ]
  },
  {
   "cell_type": "markdown",
   "metadata": {},
   "source": [
    "The left column in the printed Series is the index of each element. The right column are the elements themselves. All elements in a Series must be of the same type. Varies of different types will be coerced appropriately.\n",
    "\n",
    "Accessing elements by index isn't terribly different, but double brackets are required. It's important to remember that the bracket notation below is referring the values of the indicies insofar as they can be conceived as labels, rather than as zero-based positions."
   ]
  },
  {
   "cell_type": "code",
   "execution_count": 7,
   "metadata": {
    "collapsed": false
   },
   "outputs": [
    {
     "name": "stdout",
     "output_type": "stream",
     "text": [
      "1    2\n",
      "3    4\n",
      "dtype: int64\n",
      "<class 'pandas.core.series.Series'>\n"
     ]
    }
   ],
   "source": [
    "# Return a Series with the rows having the indicies 1 and 3.\n",
    "print(s[[1, 3]])\n",
    "print(type(s[[1, 3]]))"
   ]
  },
  {
   "cell_type": "markdown",
   "metadata": {},
   "source": [
    "The elements in a Series object can be given custom labels. The lengths of the lists used for elements and labels must be identical."
   ]
  },
  {
   "cell_type": "code",
   "execution_count": 8,
   "metadata": {
    "collapsed": false
   },
   "outputs": [
    {
     "name": "stdout",
     "output_type": "stream",
     "text": [
      "a    1\n",
      "b    2\n",
      "c    3\n",
      "d    4\n",
      "dtype: int64\n"
     ]
    }
   ],
   "source": [
    "s = Series(\n",
    "    [1, 2, 3, 4],\n",
    "    index = ['a', 'b', 'c', 'd']\n",
    ")\n",
    "\n",
    "print(s)"
   ]
  },
  {
   "cell_type": "markdown",
   "metadata": {},
   "source": [
    "The new labels can be used to return elements. Numeric indicies can still be used, though."
   ]
  },
  {
   "cell_type": "code",
   "execution_count": 9,
   "metadata": {
    "collapsed": false
   },
   "outputs": [
    {
     "name": "stdout",
     "output_type": "stream",
     "text": [
      "a    1\n",
      "d    4\n",
      "dtype: int64\n",
      "a    1\n",
      "d    4\n",
      "dtype: int64\n"
     ]
    }
   ],
   "source": [
    "print(s[['a', 'd']])\n",
    "print(s[[0, 3]])"
   ]
  },
  {
   "cell_type": "markdown",
   "metadata": {},
   "source": [
    "It's possible to access directly the indicies and basic `numpy` array of a `Series` object."
   ]
  },
  {
   "cell_type": "code",
   "execution_count": 13,
   "metadata": {
    "collapsed": false
   },
   "outputs": [
    {
     "name": "stdout",
     "output_type": "stream",
     "text": [
      "Index(['a', 'b', 'c', 'd'], dtype='object')\n",
      "<class 'pandas.core.index.Index'>\n",
      "[1 2 3 4]\n",
      "<class 'numpy.ndarray'>\n"
     ]
    }
   ],
   "source": [
    "print(s.index)\n",
    "print(type(s.index))\n",
    "print(s.values)\n",
    "print(type(s.values))"
   ]
  },
  {
   "cell_type": "markdown",
   "metadata": {},
   "source": [
    "pandas has the ability to create special time series objects where dates can be used as labels, created by using the `pd.date_range()` method. Dates are in ISO YYYY-MM-DD format.\n",
    "\n",
    "The start and end dates defined are inclusive."
   ]
  },
  {
   "cell_type": "code",
   "execution_count": 21,
   "metadata": {
    "collapsed": false
   },
   "outputs": [
    {
     "name": "stdout",
     "output_type": "stream",
     "text": [
      "<class 'pandas.tseries.index.DatetimeIndex'>\n",
      "2014-07-01 00:00:00\n",
      "2014-07-02 00:00:00\n",
      "2014-07-03 00:00:00\n",
      "2014-07-04 00:00:00\n",
      "2014-07-05 00:00:00\n",
      "2014-07-06 00:00:00\n"
     ]
    }
   ],
   "source": [
    "# Create a Series with a range of dates as labels.\n",
    "dates = pd.date_range('2014-07-01', '2014-07-6')\n",
    "print(type(dates))\n",
    "for d in dates:\n",
    "    print(d)"
   ]
  },
  {
   "cell_type": "markdown",
   "metadata": {},
   "source": [
    "Such an index is of little use on its own, but it can be assigned to another Series and there used as a special kind of label."
   ]
  },
  {
   "cell_type": "code",
   "execution_count": 18,
   "metadata": {
    "collapsed": false
   },
   "outputs": [
    {
     "name": "stdout",
     "output_type": "stream",
     "text": [
      "<class 'pandas.core.series.Series'>\n",
      "2014-07-01    80\n",
      "2014-07-02    82\n",
      "2014-07-03    85\n",
      "2014-07-04    90\n",
      "2014-07-05    83\n",
      "2014-07-06    87\n",
      "Freq: D, dtype: int64\n"
     ]
    }
   ],
   "source": [
    "# Create a series of floats that represent temperatures.\n",
    "temps1 = Series([80, 82, 85, 90, 83, 87], index = dates)\n",
    "\n",
    "print(type(temps1))\n",
    "print(temps1)"
   ]
  },
  {
   "cell_type": "markdown",
   "metadata": {},
   "source": [
    "Touching on the realm of statistics, some convenience functions are available through `pandas`, thanks to being built on top of `numpy`, but by no means should one assume that `pandas` is capable of real stats."
   ]
  },
  {
   "cell_type": "code",
   "execution_count": 20,
   "metadata": {
    "collapsed": false
   },
   "outputs": [
    {
     "name": "stdout",
     "output_type": "stream",
     "text": [
      "84.5\n"
     ]
    }
   ],
   "source": [
    "print(temps1.mean())"
   ]
  },
  {
   "cell_type": "markdown",
   "metadata": {},
   "source": [
    "pandas can do element-wise arithmetic, as one would expect."
   ]
  },
  {
   "cell_type": "code",
   "execution_count": 22,
   "metadata": {
    "collapsed": false
   },
   "outputs": [
    {
     "name": "stdout",
     "output_type": "stream",
     "text": [
      "2014-07-01    70\n",
      "2014-07-02    75\n",
      "2014-07-03    69\n",
      "2014-07-04    83\n",
      "2014-07-05    79\n",
      "2014-07-06    77\n",
      "Freq: D, dtype: int64\n",
      "2014-07-01    10\n",
      "2014-07-02     7\n",
      "2014-07-03    16\n",
      "2014-07-04     7\n",
      "2014-07-05     4\n",
      "2014-07-06    10\n",
      "Freq: D, dtype: int64\n"
     ]
    }
   ],
   "source": [
    "temps2 = Series([70, 75, 69, 83, 79, 77], index = dates)\n",
    "print(temps2)\n",
    "\n",
    "temp_diffs = temps1 - temps2\n",
    "print(temp_diffs)"
   ]
  },
  {
   "cell_type": "markdown",
   "metadata": {},
   "source": [
    "A time series index can still be accessed numerically."
   ]
  },
  {
   "cell_type": "code",
   "execution_count": 25,
   "metadata": {
    "collapsed": false
   },
   "outputs": [
    {
     "name": "stdout",
     "output_type": "stream",
     "text": [
      "16\n"
     ]
    }
   ],
   "source": [
    "print(temp_diffs[2])"
   ]
  },
  {
   "cell_type": "markdown",
   "metadata": {},
   "source": [
    "# The pandas `DataFrame` Object\n",
    "\n",
    "Here's where things get cool and interesting. A `DataFrame` object in pandas is very much like the kind found in R. It's analogous to a database table, with labels for rows (observations) and columns (variables), which themselves are Series objects.\n",
    "\n",
    "A `DataFrame` can be creted by putting together multiple `Series`."
   ]
  },
  {
   "cell_type": "code",
   "execution_count": 26,
   "metadata": {
    "collapsed": false,
    "scrolled": true
   },
   "outputs": [
    {
     "name": "stdout",
     "output_type": "stream",
     "text": [
      "<class 'pandas.core.frame.DataFrame'>\n",
      "            Missoula  Philadelphia\n",
      "2014-07-01        80            70\n",
      "2014-07-02        82            75\n",
      "2014-07-03        85            69\n",
      "2014-07-04        90            83\n",
      "2014-07-05        83            79\n",
      "2014-07-06        87            77\n"
     ]
    }
   ],
   "source": [
    "# Combine temps1 and temps2 into a two-dimensional DataFrame\n",
    "# and assign them some names.\n",
    "temps_df = DataFrame(\n",
    "    {'Missoula': temps1, 'Philadelphia': temps2}\n",
    ")\n",
    "\n",
    "print(type(temps_df))\n",
    "print(temps_df)"
   ]
  },
  {
   "cell_type": "markdown",
   "metadata": {},
   "source": [
    "Passing a column label returns returns the relevent `Series`."
   ]
  },
  {
   "cell_type": "code",
   "execution_count": 30,
   "metadata": {
    "collapsed": false
   },
   "outputs": [
    {
     "name": "stdout",
     "output_type": "stream",
     "text": [
      "<class 'pandas.core.series.Series'>\n",
      "2014-07-01    80\n",
      "2014-07-02    82\n",
      "2014-07-03    85\n",
      "2014-07-04    90\n",
      "2014-07-05    83\n",
      "2014-07-06    87\n",
      "Freq: D, Name: Missoula, dtype: int64\n",
      "\n",
      "<class 'pandas.core.series.Series'>\n",
      "2014-07-01    70\n",
      "2014-07-02    75\n",
      "2014-07-03    69\n",
      "2014-07-04    83\n",
      "2014-07-05    79\n",
      "2014-07-06    77\n",
      "Freq: D, Name: Philadelphia, dtype: int64\n"
     ]
    }
   ],
   "source": [
    "print(type(temps_df['Missoula']))\n",
    "print(temps_df['Missoula'])\n",
    "print()\n",
    "print(type(temps_df['Philadelphia']))\n",
    "print(temps_df['Philadelphia'])"
   ]
  },
  {
   "cell_type": "markdown",
   "metadata": {},
   "source": [
    "A list of labels can be passed, returning another `DataFrame`. The list elements can be in any order and they will be returned in kind. Notice the extra brackets."
   ]
  },
  {
   "cell_type": "code",
   "execution_count": 31,
   "metadata": {
    "collapsed": false
   },
   "outputs": [
    {
     "name": "stdout",
     "output_type": "stream",
     "text": [
      "<class 'pandas.core.frame.DataFrame'>\n",
      "            Philadelphia  Missoula\n",
      "2014-07-01            70        80\n",
      "2014-07-02            75        82\n",
      "2014-07-03            69        85\n",
      "2014-07-04            83        90\n",
      "2014-07-05            79        83\n",
      "2014-07-06            77        87\n"
     ]
    }
   ],
   "source": [
    "print(type(temps_df[['Philadelphia', 'Missoula']]))\n",
    "print(temps_df[['Philadelphia', 'Missoula']])"
   ]
  },
  {
   "cell_type": "markdown",
   "metadata": {},
   "source": [
    "Conveniently, if a column label has no spaces, it can be accessed like an object property."
   ]
  },
  {
   "cell_type": "code",
   "execution_count": 33,
   "metadata": {
    "collapsed": false
   },
   "outputs": [
    {
     "name": "stdout",
     "output_type": "stream",
     "text": [
      "<class 'pandas.core.series.Series'>\n",
      "2014-07-01    80\n",
      "2014-07-02    82\n",
      "2014-07-03    85\n",
      "2014-07-04    90\n",
      "2014-07-05    83\n",
      "2014-07-06    87\n",
      "Freq: D, Name: Missoula, dtype: int64\n"
     ]
    }
   ],
   "source": [
    "print(type(temps_df.Missoula))\n",
    "print(temps_df.Missoula)"
   ]
  },
  {
   "cell_type": "markdown",
   "metadata": {},
   "source": [
    "We can do some arithmetic operations, like so."
   ]
  },
  {
   "cell_type": "code",
   "execution_count": 35,
   "metadata": {
    "collapsed": false
   },
   "outputs": [
    {
     "name": "stdout",
     "output_type": "stream",
     "text": [
      "<class 'pandas.core.series.Series'>\n",
      "2014-07-01    10\n",
      "2014-07-02     7\n",
      "2014-07-03    16\n",
      "2014-07-04     7\n",
      "2014-07-05     4\n",
      "2014-07-06    10\n",
      "Freq: D, dtype: int64\n"
     ]
    }
   ],
   "source": [
    "# Calculate the temperature differences between the two cities.\n",
    "print(type(temps_df.Missoula - temps_df.Philadelphia))\n",
    "print(temps_df.Missoula - temps_df.Philadelphia)"
   ]
  },
  {
   "cell_type": "markdown",
   "metadata": {},
   "source": [
    "New columns can be added to a `DataFrame` by using array indexer bracket notation."
   ]
  },
  {
   "cell_type": "code",
   "execution_count": 38,
   "metadata": {
    "collapsed": false
   },
   "outputs": [
    {
     "name": "stdout",
     "output_type": "stream",
     "text": [
      "            Missoula  Philadelphia  Difference\n",
      "2014-07-01        80            70          10\n",
      "2014-07-02        82            75           7\n",
      "2014-07-03        85            69          16\n",
      "2014-07-04        90            83           7\n",
      "2014-07-05        83            79           4\n",
      "2014-07-06        87            77          10\n"
     ]
    }
   ],
   "source": [
    "temps_df['Difference'] = temp_diffs\n",
    "print(temps_df)"
   ]
  },
  {
   "cell_type": "markdown",
   "metadata": {},
   "source": [
    "`DataFrame` objects all have a `columns` attribute."
   ]
  },
  {
   "cell_type": "code",
   "execution_count": 40,
   "metadata": {
    "collapsed": false
   },
   "outputs": [
    {
     "name": "stdout",
     "output_type": "stream",
     "text": [
      "<class 'pandas.core.index.Index'>\n",
      "Index(['Missoula', 'Philadelphia', 'Difference'], dtype='object')\n"
     ]
    }
   ],
   "source": [
    "print(type(temps_df.columns))\n",
    "print(temps_df.columns)"
   ]
  },
  {
   "cell_type": "markdown",
   "metadata": {},
   "source": [
    "Columns can be sliced."
   ]
  },
  {
   "cell_type": "code",
   "execution_count": 41,
   "metadata": {
    "collapsed": false
   },
   "outputs": [
    {
     "name": "stdout",
     "output_type": "stream",
     "text": [
      "2014-07-02     7\n",
      "2014-07-03    16\n",
      "2014-07-04     7\n",
      "Freq: D, Name: Difference, dtype: int64\n"
     ]
    }
   ],
   "source": [
    "print(temps_df.Difference[1:4])"
   ]
  },
  {
   "cell_type": "markdown",
   "metadata": {},
   "source": []
  }
 ],
 "metadata": {
  "kernelspec": {
   "display_name": "Python 3",
   "language": "python",
   "name": "python3"
  },
  "language_info": {
   "codemirror_mode": {
    "name": "ipython",
    "version": 3
   },
   "file_extension": ".py",
   "mimetype": "text/x-python",
   "name": "python",
   "nbconvert_exporter": "python",
   "pygments_lexer": "ipython3",
   "version": "3.5.1"
  }
 },
 "nbformat": 4,
 "nbformat_minor": 0
}
